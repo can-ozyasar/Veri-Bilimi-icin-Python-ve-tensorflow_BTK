{
 "cells": [
  {
   "cell_type": "code",
   "execution_count": 22,
   "id": "ff3b7cc7-b271-4847-b0c1-1693f99f3dd6",
   "metadata": {},
   "outputs": [],
   "source": [
    "import pandas as pd \n"
   ]
  },
  {
   "cell_type": "code",
   "execution_count": 23,
   "id": "bc34dce0-c92a-48f8-9ca7-1c3e830eb133",
   "metadata": {},
   "outputs": [],
   "source": [
    "dataframe=pd.read_csv(\"bisiklet.csv\")"
   ]
  },
  {
   "cell_type": "code",
   "execution_count": 24,
   "id": "0ac877a4-9cbe-49e5-add4-cfc9f29edd8a",
   "metadata": {},
   "outputs": [
    {
     "data": {
      "text/html": [
       "<div>\n",
       "<style scoped>\n",
       "    .dataframe tbody tr th:only-of-type {\n",
       "        vertical-align: middle;\n",
       "    }\n",
       "\n",
       "    .dataframe tbody tr th {\n",
       "        vertical-align: top;\n",
       "    }\n",
       "\n",
       "    .dataframe thead th {\n",
       "        text-align: right;\n",
       "    }\n",
       "</style>\n",
       "<table border=\"1\" class=\"dataframe\">\n",
       "  <thead>\n",
       "    <tr style=\"text-align: right;\">\n",
       "      <th></th>\n",
       "      <th>ozellik1</th>\n",
       "      <th>ozellik2</th>\n",
       "      <th>fiyat</th>\n",
       "    </tr>\n",
       "  </thead>\n",
       "  <tbody>\n",
       "    <tr>\n",
       "      <th>0</th>\n",
       "      <td>1752.114587</td>\n",
       "      <td>1758.451236</td>\n",
       "      <td>954.8745</td>\n",
       "    </tr>\n",
       "    <tr>\n",
       "      <th>1</th>\n",
       "      <td>1755.987412</td>\n",
       "      <td>1751.235478</td>\n",
       "      <td>1205.4578</td>\n",
       "    </tr>\n",
       "    <tr>\n",
       "      <th>2</th>\n",
       "      <td>1750.145874</td>\n",
       "      <td>1759.854712</td>\n",
       "      <td>850.1245</td>\n",
       "    </tr>\n",
       "    <tr>\n",
       "      <th>3</th>\n",
       "      <td>1758.951235</td>\n",
       "      <td>1753.658741</td>\n",
       "      <td>1457.9854</td>\n",
       "    </tr>\n",
       "    <tr>\n",
       "      <th>4</th>\n",
       "      <td>1754.785412</td>\n",
       "      <td>1750.124578</td>\n",
       "      <td>987.4512</td>\n",
       "    </tr>\n",
       "  </tbody>\n",
       "</table>\n",
       "</div>"
      ],
      "text/plain": [
       "      ozellik1     ozellik2      fiyat\n",
       "0  1752.114587  1758.451236   954.8745\n",
       "1  1755.987412  1751.235478  1205.4578\n",
       "2  1750.145874  1759.854712   850.1245\n",
       "3  1758.951235  1753.658741  1457.9854\n",
       "4  1754.785412  1750.124578   987.4512"
      ]
     },
     "execution_count": 24,
     "metadata": {},
     "output_type": "execute_result"
    }
   ],
   "source": [
    "dataframe.head()  # eğitimde bu dosyayı bulamadım -bende gemini den üretmesini istesim üretilen veride fiyat en başta olması gerekirken\n",
    "#bende en sondaydı bunu düzeltemlim"
   ]
  },
  {
   "cell_type": "code",
   "execution_count": null,
   "id": "b0b06711-31ef-4172-9f0c-81ba41387f7c",
   "metadata": {},
   "outputs": [],
   "source": []
  },
  {
   "cell_type": "code",
   "execution_count": null,
   "id": "448ca1fe-da1a-436c-8d37-cca6087c69f1",
   "metadata": {},
   "outputs": [],
   "source": []
  },
  {
   "cell_type": "code",
   "execution_count": 25,
   "id": "74e406b8-33d0-4d12-aba0-92819d5fe65a",
   "metadata": {},
   "outputs": [],
   "source": [
    "fiyat=dataframe[\"fiyat\"] #fiyat kolonunu aldık "
   ]
  },
  {
   "cell_type": "code",
   "execution_count": 26,
   "id": "2d44a6bc-295a-48a7-8a72-79c039468553",
   "metadata": {},
   "outputs": [
    {
     "data": {
      "text/plain": [
       "0      954.8745\n",
       "1     1205.4578\n",
       "2      850.1245\n",
       "3     1457.9854\n",
       "4      987.4512\n",
       "        ...    \n",
       "91     915.7741\n",
       "92    1245.9985\n",
       "93     842.1124\n",
       "94    1475.5587\n",
       "95     780.8899\n",
       "Name: fiyat, Length: 96, dtype: float64"
      ]
     },
     "execution_count": 26,
     "metadata": {},
     "output_type": "execute_result"
    }
   ],
   "source": [
    "fiyat"
   ]
  },
  {
   "cell_type": "code",
   "execution_count": 27,
   "id": "903a1828-e023-48d2-86f7-8080d6554113",
   "metadata": {},
   "outputs": [],
   "source": [
    "dataframe.drop(\"fiyat\",axis=1,inplace=True ) # fiyat kolonunu sildik en sondan "
   ]
  },
  {
   "cell_type": "code",
   "execution_count": 28,
   "id": "a2bf237f-7933-4f1f-b4dd-271b01730f7f",
   "metadata": {},
   "outputs": [
    {
     "data": {
      "text/html": [
       "<div>\n",
       "<style scoped>\n",
       "    .dataframe tbody tr th:only-of-type {\n",
       "        vertical-align: middle;\n",
       "    }\n",
       "\n",
       "    .dataframe tbody tr th {\n",
       "        vertical-align: top;\n",
       "    }\n",
       "\n",
       "    .dataframe thead th {\n",
       "        text-align: right;\n",
       "    }\n",
       "</style>\n",
       "<table border=\"1\" class=\"dataframe\">\n",
       "  <thead>\n",
       "    <tr style=\"text-align: right;\">\n",
       "      <th></th>\n",
       "      <th>ozellik1</th>\n",
       "      <th>ozellik2</th>\n",
       "    </tr>\n",
       "  </thead>\n",
       "  <tbody>\n",
       "    <tr>\n",
       "      <th>0</th>\n",
       "      <td>1752.114587</td>\n",
       "      <td>1758.451236</td>\n",
       "    </tr>\n",
       "    <tr>\n",
       "      <th>1</th>\n",
       "      <td>1755.987412</td>\n",
       "      <td>1751.235478</td>\n",
       "    </tr>\n",
       "    <tr>\n",
       "      <th>2</th>\n",
       "      <td>1750.145874</td>\n",
       "      <td>1759.854712</td>\n",
       "    </tr>\n",
       "    <tr>\n",
       "      <th>3</th>\n",
       "      <td>1758.951235</td>\n",
       "      <td>1753.658741</td>\n",
       "    </tr>\n",
       "    <tr>\n",
       "      <th>4</th>\n",
       "      <td>1754.785412</td>\n",
       "      <td>1750.124578</td>\n",
       "    </tr>\n",
       "    <tr>\n",
       "      <th>...</th>\n",
       "      <td>...</td>\n",
       "      <td>...</td>\n",
       "    </tr>\n",
       "    <tr>\n",
       "      <th>91</th>\n",
       "      <td>1756.552147</td>\n",
       "      <td>1753.220145</td>\n",
       "    </tr>\n",
       "    <tr>\n",
       "      <th>92</th>\n",
       "      <td>1751.336985</td>\n",
       "      <td>1757.889541</td>\n",
       "    </tr>\n",
       "    <tr>\n",
       "      <th>93</th>\n",
       "      <td>1758.112458</td>\n",
       "      <td>1750.445587</td>\n",
       "    </tr>\n",
       "    <tr>\n",
       "      <th>94</th>\n",
       "      <td>1754.998541</td>\n",
       "      <td>1755.111245</td>\n",
       "    </tr>\n",
       "    <tr>\n",
       "      <th>95</th>\n",
       "      <td>1753.665587</td>\n",
       "      <td>1759.332211</td>\n",
       "    </tr>\n",
       "  </tbody>\n",
       "</table>\n",
       "<p>96 rows × 2 columns</p>\n",
       "</div>"
      ],
      "text/plain": [
       "       ozellik1     ozellik2\n",
       "0   1752.114587  1758.451236\n",
       "1   1755.987412  1751.235478\n",
       "2   1750.145874  1759.854712\n",
       "3   1758.951235  1753.658741\n",
       "4   1754.785412  1750.124578\n",
       "..          ...          ...\n",
       "91  1756.552147  1753.220145\n",
       "92  1751.336985  1757.889541\n",
       "93  1758.112458  1750.445587\n",
       "94  1754.998541  1755.111245\n",
       "95  1753.665587  1759.332211\n",
       "\n",
       "[96 rows x 2 columns]"
      ]
     },
     "execution_count": 28,
     "metadata": {},
     "output_type": "execute_result"
    }
   ],
   "source": [
    "dataframe"
   ]
  },
  {
   "cell_type": "code",
   "execution_count": 32,
   "id": "9a4dbdb4-115b-4a4b-b14a-d799461a69d2",
   "metadata": {},
   "outputs": [],
   "source": [
    "dataframe =pd.concat([fiyat,dataframe],axis=1) # fiyat kolonunu başa ekledik "
   ]
  },
  {
   "cell_type": "code",
   "execution_count": 33,
   "id": "e6905357-09bc-4ec5-b76f-24e1fa353435",
   "metadata": {},
   "outputs": [
    {
     "data": {
      "text/html": [
       "<div>\n",
       "<style scoped>\n",
       "    .dataframe tbody tr th:only-of-type {\n",
       "        vertical-align: middle;\n",
       "    }\n",
       "\n",
       "    .dataframe tbody tr th {\n",
       "        vertical-align: top;\n",
       "    }\n",
       "\n",
       "    .dataframe thead th {\n",
       "        text-align: right;\n",
       "    }\n",
       "</style>\n",
       "<table border=\"1\" class=\"dataframe\">\n",
       "  <thead>\n",
       "    <tr style=\"text-align: right;\">\n",
       "      <th></th>\n",
       "      <th>fiyat</th>\n",
       "      <th>ozellik1</th>\n",
       "      <th>ozellik2</th>\n",
       "    </tr>\n",
       "  </thead>\n",
       "  <tbody>\n",
       "    <tr>\n",
       "      <th>0</th>\n",
       "      <td>954.8745</td>\n",
       "      <td>1752.114587</td>\n",
       "      <td>1758.451236</td>\n",
       "    </tr>\n",
       "    <tr>\n",
       "      <th>1</th>\n",
       "      <td>1205.4578</td>\n",
       "      <td>1755.987412</td>\n",
       "      <td>1751.235478</td>\n",
       "    </tr>\n",
       "    <tr>\n",
       "      <th>2</th>\n",
       "      <td>850.1245</td>\n",
       "      <td>1750.145874</td>\n",
       "      <td>1759.854712</td>\n",
       "    </tr>\n",
       "    <tr>\n",
       "      <th>3</th>\n",
       "      <td>1457.9854</td>\n",
       "      <td>1758.951235</td>\n",
       "      <td>1753.658741</td>\n",
       "    </tr>\n",
       "    <tr>\n",
       "      <th>4</th>\n",
       "      <td>987.4512</td>\n",
       "      <td>1754.785412</td>\n",
       "      <td>1750.124578</td>\n",
       "    </tr>\n",
       "    <tr>\n",
       "      <th>...</th>\n",
       "      <td>...</td>\n",
       "      <td>...</td>\n",
       "      <td>...</td>\n",
       "    </tr>\n",
       "    <tr>\n",
       "      <th>91</th>\n",
       "      <td>915.7741</td>\n",
       "      <td>1756.552147</td>\n",
       "      <td>1753.220145</td>\n",
       "    </tr>\n",
       "    <tr>\n",
       "      <th>92</th>\n",
       "      <td>1245.9985</td>\n",
       "      <td>1751.336985</td>\n",
       "      <td>1757.889541</td>\n",
       "    </tr>\n",
       "    <tr>\n",
       "      <th>93</th>\n",
       "      <td>842.1124</td>\n",
       "      <td>1758.112458</td>\n",
       "      <td>1750.445587</td>\n",
       "    </tr>\n",
       "    <tr>\n",
       "      <th>94</th>\n",
       "      <td>1475.5587</td>\n",
       "      <td>1754.998541</td>\n",
       "      <td>1755.111245</td>\n",
       "    </tr>\n",
       "    <tr>\n",
       "      <th>95</th>\n",
       "      <td>780.8899</td>\n",
       "      <td>1753.665587</td>\n",
       "      <td>1759.332211</td>\n",
       "    </tr>\n",
       "  </tbody>\n",
       "</table>\n",
       "<p>96 rows × 3 columns</p>\n",
       "</div>"
      ],
      "text/plain": [
       "        fiyat     ozellik1     ozellik2\n",
       "0    954.8745  1752.114587  1758.451236\n",
       "1   1205.4578  1755.987412  1751.235478\n",
       "2    850.1245  1750.145874  1759.854712\n",
       "3   1457.9854  1758.951235  1753.658741\n",
       "4    987.4512  1754.785412  1750.124578\n",
       "..        ...          ...          ...\n",
       "91   915.7741  1756.552147  1753.220145\n",
       "92  1245.9985  1751.336985  1757.889541\n",
       "93   842.1124  1758.112458  1750.445587\n",
       "94  1475.5587  1754.998541  1755.111245\n",
       "95   780.8899  1753.665587  1759.332211\n",
       "\n",
       "[96 rows x 3 columns]"
      ]
     },
     "execution_count": 33,
     "metadata": {},
     "output_type": "execute_result"
    }
   ],
   "source": [
    "dataframe"
   ]
  },
  {
   "cell_type": "code",
   "execution_count": null,
   "id": "69f4cf1c-b6fb-4e7a-8ae2-84f86c6d3ef8",
   "metadata": {},
   "outputs": [],
   "source": []
  },
  {
   "cell_type": "markdown",
   "id": "0c433c4b-2eaa-4172-bddc-54f9ef7a2a7b",
   "metadata": {},
   "source": [
    "##### seaborn kütüphanesi ile  görselleştirme işlemleri "
   ]
  },
  {
   "cell_type": "code",
   "execution_count": 34,
   "id": "83594777-2054-4c6b-a562-08b56e2f1aa7",
   "metadata": {},
   "outputs": [],
   "source": [
    "import seaborn as sbn\n",
    "import matplotlib.pyplot as plt"
   ]
  },
  {
   "cell_type": "code",
   "execution_count": 35,
   "id": "126a38b7-9635-4fb5-971d-223a94fb695f",
   "metadata": {},
   "outputs": [
    {
     "data": {
      "text/plain": [
       "<seaborn.axisgrid.PairGrid at 0x20bb71756a0>"
      ]
     },
     "execution_count": 35,
     "metadata": {},
     "output_type": "execute_result"
    },
    {
     "data": {
      "image/png": "[encoded data removed]",
      "text/plain": [
       "<Figure size 750x750 with 12 Axes>"
      ]
     },
     "metadata": {},
     "output_type": "display_data"
    }
   ],
   "source": [
    "sbn.pairplot(dataframe)"
   ]
  },
  {
   "cell_type": "code",
   "execution_count": null,
   "id": "a95b6f98-bbba-4c78-9a2e-f75aa3c326d0",
   "metadata": {},
   "outputs": [],
   "source": []
  },
  {
   "cell_type": "markdown",
   "id": "97bb8ddd-a22d-4464-bffe-a465e4eba36c",
   "metadata": {},
   "source": [
    "### veriyi test/train olarak ikiye ayırma "
   ]
  },
  {
   "cell_type": "code",
   "execution_count": null,
   "id": "478af906-8905-4069-8d8a-bd6826f6385e",
   "metadata": {},
   "outputs": [],
   "source": []
  }
 ],
 "metadata": {
  "kernelspec": {
   "display_name": "Python 3 (ipykernel)",
   "language": "python",
   "name": "python3"
  },
  "language_info": {
   "codemirror_mode": {
    "name": "ipython",
    "version": 3
   },
   "file_extension": ".py",
   "mimetype": "text/x-python",
   "name": "python",
   "nbconvert_exporter": "python",
   "pygments_lexer": "ipython3",
   "version": "3.13.5"
  }
 },
 "nbformat": 4,
 "nbformat_minor": 5
}

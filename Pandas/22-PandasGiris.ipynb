{
 "cells": [
  {
   "cell_type": "code",
   "execution_count": null,
   "id": "8365d290-307b-49eb-abbe-d2dea834447e",
   "metadata": {},
   "outputs": [],
   "source": []
  },
  {
   "cell_type": "code",
   "execution_count": 2,
   "id": "8d91e4c4-6590-402a-ae03-91c6430dc650",
   "metadata": {},
   "outputs": [],
   "source": [
    "import pandas as pd\n",
    "import numpy as np"
   ]
  },
  {
   "cell_type": "markdown",
   "id": "d6ff8474-4648-4e98-88c0-22bd0ac1f115",
   "metadata": {},
   "source": [
    "## Series / Seriler"
   ]
  },
  {
   "cell_type": "code",
   "execution_count": 3,
   "id": "af166339-4968-4ee9-95e6-02825730ec61",
   "metadata": {},
   "outputs": [],
   "source": [
    "# veri biliminin exel i denir  , verilerle oynanır"
   ]
  },
  {
   "cell_type": "code",
   "execution_count": 6,
   "id": "159466e3-ed22-4c64-ac05-791a01a29ff2",
   "metadata": {},
   "outputs": [],
   "source": [
    "mySozluk={\"Can\":25, \"Ali\":47, \"Zeynep\":29}"
   ]
  },
  {
   "cell_type": "code",
   "execution_count": 7,
   "id": "ad75a74d-9a24-43c3-82c2-fd5a00eded25",
   "metadata": {},
   "outputs": [
    {
     "data": {
      "text/plain": [
       "Can       25\n",
       "Ali       47\n",
       "Zeynep    29\n",
       "dtype: int64"
      ]
     },
     "execution_count": 7,
     "metadata": {},
     "output_type": "execute_result"
    }
   ],
   "source": [
    " pd.Series(mySozluk) #seri oluşturma "
   ]
  },
  {
   "cell_type": "code",
   "execution_count": 8,
   "id": "36805af0-a8de-4da7-8210-24374ca32ba3",
   "metadata": {},
   "outputs": [
    {
     "data": {
      "text/plain": [
       "pandas.core.series.Series"
      ]
     },
     "execution_count": 8,
     "metadata": {},
     "output_type": "execute_result"
    }
   ],
   "source": [
    " type(pd.Series(mySozluk) ) #tipine bakalım pandas core series series tipinde  "
   ]
  },
  {
   "cell_type": "markdown",
   "id": "fa3ae306-fbeb-4258-bf86-6b00a8c2c0eb",
   "metadata": {},
   "source": [
    "### DİZİLERİ SERİYE ÇEVİRME "
   ]
  },
  {
   "cell_type": "code",
   "execution_count": null,
   "id": "37839e86-49ea-4f66-afa7-126b2ef3472e",
   "metadata": {},
   "outputs": [],
   "source": []
  },
  {
   "cell_type": "code",
   "execution_count": 9,
   "id": "57268740-2226-4041-8647-9fc96a7019a6",
   "metadata": {},
   "outputs": [],
   "source": [
    "myYaslar=[25,47,29]\n",
    "myisimler=[\"Can\", \"Ali\", \"Zeynep\"]"
   ]
  },
  {
   "cell_type": "code",
   "execution_count": 11,
   "id": "6e1da932-bc2c-4cc1-af29-a6b3438e1cfb",
   "metadata": {},
   "outputs": [
    {
     "data": {
      "text/plain": [
       "0    25\n",
       "1    47\n",
       "2    29\n",
       "dtype: int64"
      ]
     },
     "execution_count": 11,
     "metadata": {},
     "output_type": "execute_result"
    }
   ],
   "source": [
    "pd.Series(myYaslar)  #indexleme ile 0 1 2 ile oluşturdu"
   ]
  },
  {
   "cell_type": "code",
   "execution_count": 12,
   "id": "c53ad82c-1b52-41e2-95de-b6a8e7d6cf8b",
   "metadata": {},
   "outputs": [
    {
     "data": {
      "text/plain": [
       "Can       25\n",
       "Ali       47\n",
       "Zeynep    29\n",
       "dtype: int64"
      ]
     },
     "execution_count": 12,
     "metadata": {},
     "output_type": "execute_result"
    }
   ],
   "source": [
    "pd.Series(myYaslar,myisimler) #aynı mysozluk serisi oluşturduk ayrı ayrı diziler vererek"
   ]
  },
  {
   "cell_type": "code",
   "execution_count": null,
   "id": "b07a30b4-97ee-4582-9dfc-8d64a5c86e10",
   "metadata": {},
   "outputs": [],
   "source": []
  },
  {
   "cell_type": "code",
   "execution_count": 14,
   "id": "07df4a47-324d-481e-9bf6-7ff29575105c",
   "metadata": {},
   "outputs": [
    {
     "data": {
      "text/plain": [
       "Can       25\n",
       "Ali       47\n",
       "Zeynep    29\n",
       "dtype: int64"
      ]
     },
     "execution_count": 14,
     "metadata": {},
     "output_type": "execute_result"
    }
   ],
   "source": [
    "pd.Series(data=myYaslar,index=myisimler) #değişken isimleri ile verdik ki anlaşalılırlığı daha iyi olsun  "
   ]
  },
  {
   "cell_type": "markdown",
   "id": "d7977303-4577-42f6-8387-4003b381a924",
   "metadata": {},
   "source": [
    "### NUMPY DİZİSİNİ SERİ YE ÇEVİRME "
   ]
  },
  {
   "cell_type": "code",
   "execution_count": null,
   "id": "0efb088c-e5a6-4b65-ac2c-6c3d560fe2d3",
   "metadata": {},
   "outputs": [],
   "source": []
  },
  {
   "cell_type": "code",
   "execution_count": 20,
   "id": "0c08bfef-57d1-4c76-a255-248878c36339",
   "metadata": {},
   "outputs": [],
   "source": [
    "numpyDizisiYaslar=np.array(myYaslar)"
   ]
  },
  {
   "cell_type": "code",
   "execution_count": 21,
   "id": "d0c1a132-637d-4d3c-ad8b-2198603e56af",
   "metadata": {},
   "outputs": [
    {
     "data": {
      "text/plain": [
       "array([25, 47, 29])"
      ]
     },
     "execution_count": 21,
     "metadata": {},
     "output_type": "execute_result"
    }
   ],
   "source": [
    "numpyDizisi"
   ]
  },
  {
   "cell_type": "code",
   "execution_count": 23,
   "id": "91c11532-bd77-408f-b7b4-9469fc77da1b",
   "metadata": {},
   "outputs": [],
   "source": [
    "numpyDizisisimler=np.array(myisimler)"
   ]
  },
  {
   "cell_type": "code",
   "execution_count": 25,
   "id": "5c67d114-33e8-4cdf-856b-071e3177366b",
   "metadata": {},
   "outputs": [
    {
     "data": {
      "text/plain": [
       "array(['Can', 'Ali', 'Zeynep'], dtype='<U6')"
      ]
     },
     "execution_count": 25,
     "metadata": {},
     "output_type": "execute_result"
    }
   ],
   "source": [
    "numpyDizisisimler"
   ]
  },
  {
   "cell_type": "code",
   "execution_count": 29,
   "id": "e80f932b-8d44-4939-815a-451866ab4b34",
   "metadata": {},
   "outputs": [
    {
     "data": {
      "text/plain": [
       "Can       25\n",
       "Ali       47\n",
       "Zeynep    29\n",
       "dtype: int64"
      ]
     },
     "execution_count": 29,
     "metadata": {},
     "output_type": "execute_result"
    }
   ],
   "source": [
    "pd.Series(numpyDizisiYaslar,numpyDizisisimler)"
   ]
  },
  {
   "cell_type": "code",
   "execution_count": null,
   "id": "85910e4d-d113-49ef-8f68-95428f8b0bff",
   "metadata": {},
   "outputs": [],
   "source": []
  },
  {
   "cell_type": "markdown",
   "id": "de922981-f925-4ad9-81a8-6bacaac7d21c",
   "metadata": {},
   "source": [
    "### Series özellikleri"
   ]
  },
  {
   "cell_type": "code",
   "execution_count": 33,
   "id": "46a7795a-4a00-4d82-9963-0fc9c8d6c9f8",
   "metadata": {},
   "outputs": [
    {
     "data": {
      "text/plain": [
       "1       atil\n",
       "2         77\n",
       "asa    osman\n",
       "dtype: object"
      ]
     },
     "execution_count": 33,
     "metadata": {},
     "output_type": "execute_result"
    }
   ],
   "source": [
    "pd.Series([\"atil\",77,\"osman\"],[1,2,\"asa\"]) # istenen tiplerde veri oluşturulabilir "
   ]
  },
  {
   "cell_type": "code",
   "execution_count": 40,
   "id": "3465d93c-d2aa-41ec-a535-03064b921a8b",
   "metadata": {},
   "outputs": [],
   "source": [
    "yarismaSonucu1=pd.Series([10,5,1],[\"atil\",\"atlas\",\"osman\"])"
   ]
  },
  {
   "cell_type": "code",
   "execution_count": 41,
   "id": "a55f295b-68ce-4eeb-8189-71b77cc0fa5b",
   "metadata": {},
   "outputs": [
    {
     "data": {
      "text/plain": [
       "atil     10\n",
       "atlas     5\n",
       "osman     1\n",
       "dtype: int64"
      ]
     },
     "execution_count": 41,
     "metadata": {},
     "output_type": "execute_result"
    }
   ],
   "source": [
    "yarismaSonucu1"
   ]
  },
  {
   "cell_type": "code",
   "execution_count": 42,
   "id": "f2d03572-7835-403f-b9e9-ec95f03fee55",
   "metadata": {},
   "outputs": [],
   "source": [
    "yarismaSonucu2=pd.Series([20,10,8],[\"atil\",\"atlas\",\"osman\"])"
   ]
  },
  {
   "cell_type": "code",
   "execution_count": 43,
   "id": "5399272c-d5fd-45bb-822a-945456b2e409",
   "metadata": {},
   "outputs": [
    {
     "data": {
      "text/plain": [
       "atil     20\n",
       "atlas    10\n",
       "osman     8\n",
       "dtype: int64"
      ]
     },
     "execution_count": 43,
     "metadata": {},
     "output_type": "execute_result"
    }
   ],
   "source": [
    "yarismaSonucu2"
   ]
  },
  {
   "cell_type": "code",
   "execution_count": 45,
   "id": "599e4926-14da-4734-ba22-34ea821b37fb",
   "metadata": {},
   "outputs": [
    {
     "data": {
      "text/plain": [
       "np.int64(10)"
      ]
     },
     "execution_count": 45,
     "metadata": {},
     "output_type": "execute_result"
    }
   ],
   "source": [
    "yarismaSonucu2[\"atlas\"] # istenen indisteki değeri getirme "
   ]
  },
  {
   "cell_type": "code",
   "execution_count": null,
   "id": "5fb0497c-1c77-4ab4-a0d8-455530c70ffb",
   "metadata": {},
   "outputs": [],
   "source": []
  },
  {
   "cell_type": "code",
   "execution_count": 47,
   "id": "994286f2-7eb0-45c9-8c9f-6b5d91eadc38",
   "metadata": {},
   "outputs": [],
   "source": [
    "sonuc= yarismaSonucu2+yarismaSonucu1 #toplama "
   ]
  },
  {
   "cell_type": "code",
   "execution_count": 48,
   "id": "e2076ec8-02dd-4374-978d-cb726aba363c",
   "metadata": {},
   "outputs": [
    {
     "data": {
      "text/plain": [
       "atil     30\n",
       "atlas    15\n",
       "osman     9\n",
       "dtype: int64"
      ]
     },
     "execution_count": 48,
     "metadata": {},
     "output_type": "execute_result"
    }
   ],
   "source": [
    "sonuc"
   ]
  },
  {
   "cell_type": "markdown",
   "id": "f81272bb-0298-468e-bb7e-f4acc4b4073a",
   "metadata": {},
   "source": [
    "### farklı değişkenli serilerde toplamanın index index değil de değişken ile olduğunu görelim \n",
    "### aynı olan değişkenlerde işlemleire yaplır"
   ]
  },
  {
   "cell_type": "code",
   "execution_count": 51,
   "id": "737eaac8-d6dd-455f-bb98-23f160e733d8",
   "metadata": {},
   "outputs": [],
   "source": [
    "farkli1=pd.Series([10,5,1,52],[\"a\",\"b\",\"c\",\"d\"])"
   ]
  },
  {
   "cell_type": "code",
   "execution_count": 52,
   "id": "a950f867-a55d-4e92-9222-70495f6ce99c",
   "metadata": {},
   "outputs": [
    {
     "data": {
      "text/plain": [
       "a    10\n",
       "b     5\n",
       "c     1\n",
       "d    52\n",
       "dtype: int64"
      ]
     },
     "execution_count": 52,
     "metadata": {},
     "output_type": "execute_result"
    }
   ],
   "source": [
    "farkli1"
   ]
  },
  {
   "cell_type": "code",
   "execution_count": 53,
   "id": "cbcec895-eeb9-4971-8a7b-2c7cdac10a4b",
   "metadata": {},
   "outputs": [],
   "source": [
    "farkli2=pd.Series([0,5,3,1],[\"a\",\"b\",\"f\",\"g\"])"
   ]
  },
  {
   "cell_type": "code",
   "execution_count": 54,
   "id": "c9b08554-839e-4e60-9e4b-256171d87a48",
   "metadata": {},
   "outputs": [
    {
     "data": {
      "text/plain": [
       "a    0\n",
       "b    5\n",
       "f    3\n",
       "g    1\n",
       "dtype: int64"
      ]
     },
     "execution_count": 54,
     "metadata": {},
     "output_type": "execute_result"
    }
   ],
   "source": [
    "farkli2"
   ]
  },
  {
   "cell_type": "code",
   "execution_count": 55,
   "id": "3c6d1264-f76d-4cf2-9a8c-f147ec927c32",
   "metadata": {},
   "outputs": [
    {
     "data": {
      "text/plain": [
       "a    10.0\n",
       "b    10.0\n",
       "c     NaN\n",
       "d     NaN\n",
       "f     NaN\n",
       "g     NaN\n",
       "dtype: float64"
      ]
     },
     "execution_count": 55,
     "metadata": {},
     "output_type": "execute_result"
    }
   ],
   "source": [
    "farkli2+"
   ]
  },
  {
   "cell_type": "code",
   "execution_count": null,
   "id": "67a9152b-beda-4776-a95c-02367d0ef89d",
   "metadata": {},
   "outputs": [],
   "source": []
  }
 ],
 "metadata": {
  "kernelspec": {
   "display_name": "Python 3 (ipykernel)",
   "language": "python",
   "name": "python3"
  },
  "language_info": {
   "codemirror_mode": {
    "name": "ipython",
    "version": 3
   },
   "file_extension": ".py",
   "mimetype": "text/x-python",
   "name": "python",
   "nbconvert_exporter": "python",
   "pygments_lexer": "ipython3",
   "version": "3.13.5"
  }
 },
 "nbformat": 4,
 "nbformat_minor": 5
}

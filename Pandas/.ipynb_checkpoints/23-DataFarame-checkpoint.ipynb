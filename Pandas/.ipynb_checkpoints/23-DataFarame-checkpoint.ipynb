{
 "cells": [
  {
   "cell_type": "code",
   "execution_count": 59,
   "id": "c287ac3c-57ad-4981-9ef5-8e9c7baef9fa",
   "metadata": {},
   "outputs": [],
   "source": [
    "import pandas as pd"
   ]
  },
  {
   "cell_type": "code",
   "execution_count": 60,
   "id": "36793298-de17-41bd-a5c9-bacd9e4b516c",
   "metadata": {},
   "outputs": [],
   "source": [
    "import numpy as np"
   ]
  },
  {
   "cell_type": "code",
   "execution_count": null,
   "id": "1f4b7a30-acbb-4b0a-9e2c-0aefa205c975",
   "metadata": {},
   "outputs": [],
   "source": []
  },
  {
   "cell_type": "code",
   "execution_count": 61,
   "id": "30fb8ceb-36a5-47d6-a8e4-b49652867e63",
   "metadata": {},
   "outputs": [],
   "source": [
    "data=np.random.randn(4,3) #rastgele değerlerden olluşan 4*3 lük numpy matrisi"
   ]
  },
  {
   "cell_type": "code",
   "execution_count": 62,
   "id": "3c35651a-fae6-468d-bf8c-b8b1b2a667b3",
   "metadata": {},
   "outputs": [
    {
     "data": {
      "text/plain": [
       "array([[-0.06369257, -0.05471113, -2.04236742],\n",
       "       [-0.27908431,  0.63198336, -0.26685617],\n",
       "       [-0.31076331,  1.30943628, -0.25944102],\n",
       "       [-0.27366551, -0.73647911, -0.48947242]])"
      ]
     },
     "execution_count": 62,
     "metadata": {},
     "output_type": "execute_result"
    }
   ],
   "source": [
    "data"
   ]
  },
  {
   "cell_type": "code",
   "execution_count": null,
   "id": "8eef06f3-f67a-426e-a807-d0b20acef7f3",
   "metadata": {},
   "outputs": [],
   "source": []
  },
  {
   "cell_type": "code",
   "execution_count": 63,
   "id": "c53eec80-38b0-4847-90b3-c3ebddf14aee",
   "metadata": {},
   "outputs": [],
   "source": [
    "dataFrame=pd.DataFrame(data)"
   ]
  },
  {
   "cell_type": "code",
   "execution_count": 64,
   "id": "ca623bd6-767e-4950-8937-3e8a1747cb7e",
   "metadata": {},
   "outputs": [
    {
     "data": {
      "text/html": [
       "<div>\n",
       "<style scoped>\n",
       "    .dataframe tbody tr th:only-of-type {\n",
       "        vertical-align: middle;\n",
       "    }\n",
       "\n",
       "    .dataframe tbody tr th {\n",
       "        vertical-align: top;\n",
       "    }\n",
       "\n",
       "    .dataframe thead th {\n",
       "        text-align: right;\n",
       "    }\n",
       "</style>\n",
       "<table border=\"1\" class=\"dataframe\">\n",
       "  <thead>\n",
       "    <tr style=\"text-align: right;\">\n",
       "      <th></th>\n",
       "      <th>0</th>\n",
       "      <th>1</th>\n",
       "      <th>2</th>\n",
       "    </tr>\n",
       "  </thead>\n",
       "  <tbody>\n",
       "    <tr>\n",
       "      <th>0</th>\n",
       "      <td>-0.063693</td>\n",
       "      <td>-0.054711</td>\n",
       "      <td>-2.042367</td>\n",
       "    </tr>\n",
       "    <tr>\n",
       "      <th>1</th>\n",
       "      <td>-0.279084</td>\n",
       "      <td>0.631983</td>\n",
       "      <td>-0.266856</td>\n",
       "    </tr>\n",
       "    <tr>\n",
       "      <th>2</th>\n",
       "      <td>-0.310763</td>\n",
       "      <td>1.309436</td>\n",
       "      <td>-0.259441</td>\n",
       "    </tr>\n",
       "    <tr>\n",
       "      <th>3</th>\n",
       "      <td>-0.273666</td>\n",
       "      <td>-0.736479</td>\n",
       "      <td>-0.489472</td>\n",
       "    </tr>\n",
       "  </tbody>\n",
       "</table>\n",
       "</div>"
      ],
      "text/plain": [
       "          0         1         2\n",
       "0 -0.063693 -0.054711 -2.042367\n",
       "1 -0.279084  0.631983 -0.266856\n",
       "2 -0.310763  1.309436 -0.259441\n",
       "3 -0.273666 -0.736479 -0.489472"
      ]
     },
     "execution_count": 64,
     "metadata": {},
     "output_type": "execute_result"
    }
   ],
   "source": [
    "dataFrame"
   ]
  },
  {
   "cell_type": "code",
   "execution_count": 65,
   "id": "4d7ceaae-2c1b-45a0-953f-b4da02af2dda",
   "metadata": {},
   "outputs": [
    {
     "data": {
      "text/plain": [
       "0   -0.063693\n",
       "1   -0.279084\n",
       "2   -0.310763\n",
       "3   -0.273666\n",
       "Name: 0, dtype: float64"
      ]
     },
     "execution_count": 65,
     "metadata": {},
     "output_type": "execute_result"
    }
   ],
   "source": [
    "dataFrame[0]  # ilk stunu aldık "
   ]
  },
  {
   "cell_type": "code",
   "execution_count": 66,
   "id": "321f3c5a-3268-4da5-ac43-14b37b71b57d",
   "metadata": {},
   "outputs": [
    {
     "data": {
      "text/plain": [
       "pandas.core.series.Series"
      ]
     },
     "execution_count": 66,
     "metadata": {},
     "output_type": "execute_result"
    }
   ],
   "source": [
    "type(dataFrame[0] )"
   ]
  },
  {
   "cell_type": "code",
   "execution_count": null,
   "id": "2f222ab4-105f-46de-bdcc-4f4cb6b9a2ca",
   "metadata": {},
   "outputs": [],
   "source": []
  },
  {
   "cell_type": "code",
   "execution_count": 67,
   "id": "a440965b-ef6d-4814-88e6-90dd45457d8a",
   "metadata": {},
   "outputs": [],
   "source": [
    "yeniDataframe=pd.DataFrame(data,index=[\"Atil\",\"Zeynep\",\"Atlas\",\"Mehmet\"],columns=[\"Maas\",\"Yas\",\"Calisma Saati\"]) #data stun satırları isimlendirdik "
   ]
  },
  {
   "cell_type": "code",
   "execution_count": 68,
   "id": "bb18b350-4f92-4f02-b4ad-dbd99e6b0a23",
   "metadata": {},
   "outputs": [
    {
     "data": {
      "text/html": [
       "<div>\n",
       "<style scoped>\n",
       "    .dataframe tbody tr th:only-of-type {\n",
       "        vertical-align: middle;\n",
       "    }\n",
       "\n",
       "    .dataframe tbody tr th {\n",
       "        vertical-align: top;\n",
       "    }\n",
       "\n",
       "    .dataframe thead th {\n",
       "        text-align: right;\n",
       "    }\n",
       "</style>\n",
       "<table border=\"1\" class=\"dataframe\">\n",
       "  <thead>\n",
       "    <tr style=\"text-align: right;\">\n",
       "      <th></th>\n",
       "      <th>Maas</th>\n",
       "      <th>Yas</th>\n",
       "      <th>Calisma Saati</th>\n",
       "    </tr>\n",
       "  </thead>\n",
       "  <tbody>\n",
       "    <tr>\n",
       "      <th>Atil</th>\n",
       "      <td>-0.063693</td>\n",
       "      <td>-0.054711</td>\n",
       "      <td>-2.042367</td>\n",
       "    </tr>\n",
       "    <tr>\n",
       "      <th>Zeynep</th>\n",
       "      <td>-0.279084</td>\n",
       "      <td>0.631983</td>\n",
       "      <td>-0.266856</td>\n",
       "    </tr>\n",
       "    <tr>\n",
       "      <th>Atlas</th>\n",
       "      <td>-0.310763</td>\n",
       "      <td>1.309436</td>\n",
       "      <td>-0.259441</td>\n",
       "    </tr>\n",
       "    <tr>\n",
       "      <th>Mehmet</th>\n",
       "      <td>-0.273666</td>\n",
       "      <td>-0.736479</td>\n",
       "      <td>-0.489472</td>\n",
       "    </tr>\n",
       "  </tbody>\n",
       "</table>\n",
       "</div>"
      ],
      "text/plain": [
       "            Maas       Yas  Calisma Saati\n",
       "Atil   -0.063693 -0.054711      -2.042367\n",
       "Zeynep -0.279084  0.631983      -0.266856\n",
       "Atlas  -0.310763  1.309436      -0.259441\n",
       "Mehmet -0.273666 -0.736479      -0.489472"
      ]
     },
     "execution_count": 68,
     "metadata": {},
     "output_type": "execute_result"
    }
   ],
   "source": [
    "yeniDataframe"
   ]
  },
  {
   "cell_type": "markdown",
   "id": "001f0073-ef20-4833-bca0-d13f884b8919",
   "metadata": {},
   "source": [
    "### KOLON SEÇME"
   ]
  },
  {
   "cell_type": "code",
   "execution_count": 69,
   "id": "8fbdc6cc-9c1c-4da4-9369-a3e3592efd70",
   "metadata": {},
   "outputs": [
    {
     "data": {
      "text/plain": [
       "Atil     -2.042367\n",
       "Zeynep   -0.266856\n",
       "Atlas    -0.259441\n",
       "Mehmet   -0.489472\n",
       "Name: Calisma Saati, dtype: float64"
      ]
     },
     "execution_count": 69,
     "metadata": {},
     "output_type": "execute_result"
    }
   ],
   "source": [
    "yeniDataframe[\"Calisma Saati\"] #istenen kolonu getirme "
   ]
  },
  {
   "cell_type": "code",
   "execution_count": 70,
   "id": "84fc5681-a8da-4d2a-bd88-ac7d45777dd3",
   "metadata": {},
   "outputs": [
    {
     "data": {
      "text/html": [
       "<div>\n",
       "<style scoped>\n",
       "    .dataframe tbody tr th:only-of-type {\n",
       "        vertical-align: middle;\n",
       "    }\n",
       "\n",
       "    .dataframe tbody tr th {\n",
       "        vertical-align: top;\n",
       "    }\n",
       "\n",
       "    .dataframe thead th {\n",
       "        text-align: right;\n",
       "    }\n",
       "</style>\n",
       "<table border=\"1\" class=\"dataframe\">\n",
       "  <thead>\n",
       "    <tr style=\"text-align: right;\">\n",
       "      <th></th>\n",
       "      <th>Maas</th>\n",
       "      <th>Yas</th>\n",
       "      <th>Calisma Saati</th>\n",
       "    </tr>\n",
       "  </thead>\n",
       "  <tbody>\n",
       "    <tr>\n",
       "      <th>Atil</th>\n",
       "      <td>-0.063693</td>\n",
       "      <td>-0.054711</td>\n",
       "      <td>-2.042367</td>\n",
       "    </tr>\n",
       "    <tr>\n",
       "      <th>Zeynep</th>\n",
       "      <td>-0.279084</td>\n",
       "      <td>0.631983</td>\n",
       "      <td>-0.266856</td>\n",
       "    </tr>\n",
       "    <tr>\n",
       "      <th>Atlas</th>\n",
       "      <td>-0.310763</td>\n",
       "      <td>1.309436</td>\n",
       "      <td>-0.259441</td>\n",
       "    </tr>\n",
       "    <tr>\n",
       "      <th>Mehmet</th>\n",
       "      <td>-0.273666</td>\n",
       "      <td>-0.736479</td>\n",
       "      <td>-0.489472</td>\n",
       "    </tr>\n",
       "  </tbody>\n",
       "</table>\n",
       "</div>"
      ],
      "text/plain": [
       "            Maas       Yas  Calisma Saati\n",
       "Atil   -0.063693 -0.054711      -2.042367\n",
       "Zeynep -0.279084  0.631983      -0.266856\n",
       "Atlas  -0.310763  1.309436      -0.259441\n",
       "Mehmet -0.273666 -0.736479      -0.489472"
      ]
     },
     "execution_count": 70,
     "metadata": {},
     "output_type": "execute_result"
    }
   ],
   "source": [
    "yeniDataframe[[\"Maas\",\"Yas\",\"Calisma Saati\"]]"
   ]
  },
  {
   "cell_type": "markdown",
   "id": "1d4089ed-0184-483e-9096-917573344732",
   "metadata": {},
   "source": [
    "### SATIR SEÇME"
   ]
  },
  {
   "cell_type": "code",
   "execution_count": 71,
   "id": "d244d7ab-bb9d-4cf5-8449-9bc5b71a8da4",
   "metadata": {},
   "outputs": [
    {
     "data": {
      "text/plain": [
       "Maas            -0.063693\n",
       "Yas             -0.054711\n",
       "Calisma Saati   -2.042367\n",
       "Name: Atil, dtype: float64"
      ]
     },
     "execution_count": 71,
     "metadata": {},
     "output_type": "execute_result"
    }
   ],
   "source": [
    "yeniDataframe.loc[\"Atil\"]"
   ]
  },
  {
   "cell_type": "code",
   "execution_count": 72,
   "id": "347d24e3-2b2e-471f-a4c5-f0b75edfd7b7",
   "metadata": {},
   "outputs": [
    {
     "data": {
      "text/plain": [
       "Maas            -0.310763\n",
       "Yas              1.309436\n",
       "Calisma Saati   -0.259441\n",
       "Name: Atlas, dtype: float64"
      ]
     },
     "execution_count": 72,
     "metadata": {},
     "output_type": "execute_result"
    }
   ],
   "source": [
    "yeniDataframe.iloc[2] # index bzalı satır getirme "
   ]
  },
  {
   "cell_type": "code",
   "execution_count": null,
   "id": "202acdb6-5c49-4e4c-b2ac-435dd0235f04",
   "metadata": {},
   "outputs": [],
   "source": []
  },
  {
   "cell_type": "markdown",
   "id": "1076c99f-5536-411f-a305-f243ed50ecf7",
   "metadata": {},
   "source": [
    "#### df indexler "
   ]
  },
  {
   "cell_type": "code",
   "execution_count": 73,
   "id": "0603256a-da81-4e62-8d2a-5b6801690e18",
   "metadata": {},
   "outputs": [
    {
     "data": {
      "text/html": [
       "<div>\n",
       "<style scoped>\n",
       "    .dataframe tbody tr th:only-of-type {\n",
       "        vertical-align: middle;\n",
       "    }\n",
       "\n",
       "    .dataframe tbody tr th {\n",
       "        vertical-align: top;\n",
       "    }\n",
       "\n",
       "    .dataframe thead th {\n",
       "        text-align: right;\n",
       "    }\n",
       "</style>\n",
       "<table border=\"1\" class=\"dataframe\">\n",
       "  <thead>\n",
       "    <tr style=\"text-align: right;\">\n",
       "      <th></th>\n",
       "      <th>Maas</th>\n",
       "      <th>Yas</th>\n",
       "      <th>Calisma Saati</th>\n",
       "    </tr>\n",
       "  </thead>\n",
       "  <tbody>\n",
       "    <tr>\n",
       "      <th>Atil</th>\n",
       "      <td>-0.063693</td>\n",
       "      <td>-0.054711</td>\n",
       "      <td>-2.042367</td>\n",
       "    </tr>\n",
       "    <tr>\n",
       "      <th>Zeynep</th>\n",
       "      <td>-0.279084</td>\n",
       "      <td>0.631983</td>\n",
       "      <td>-0.266856</td>\n",
       "    </tr>\n",
       "    <tr>\n",
       "      <th>Atlas</th>\n",
       "      <td>-0.310763</td>\n",
       "      <td>1.309436</td>\n",
       "      <td>-0.259441</td>\n",
       "    </tr>\n",
       "    <tr>\n",
       "      <th>Mehmet</th>\n",
       "      <td>-0.273666</td>\n",
       "      <td>-0.736479</td>\n",
       "      <td>-0.489472</td>\n",
       "    </tr>\n",
       "  </tbody>\n",
       "</table>\n",
       "</div>"
      ],
      "text/plain": [
       "            Maas       Yas  Calisma Saati\n",
       "Atil   -0.063693 -0.054711      -2.042367\n",
       "Zeynep -0.279084  0.631983      -0.266856\n",
       "Atlas  -0.310763  1.309436      -0.259441\n",
       "Mehmet -0.273666 -0.736479      -0.489472"
      ]
     },
     "execution_count": 73,
     "metadata": {},
     "output_type": "execute_result"
    }
   ],
   "source": [
    "yeniDataframe"
   ]
  },
  {
   "cell_type": "markdown",
   "id": "e1ece813-e3f4-4ed0-9b5b-d52f2dcbffc0",
   "metadata": {},
   "source": [
    "#### KOLON EKLEME"
   ]
  },
  {
   "cell_type": "code",
   "execution_count": 74,
   "id": "988dcd1c-5a9a-47de-9fd3-facc95592f10",
   "metadata": {},
   "outputs": [],
   "source": [
    "yeniDataframe[\"Emeklilik Yasi\"]=[60,61,63,68]     #eklenecek stun"
   ]
  },
  {
   "cell_type": "code",
   "execution_count": 75,
   "id": "c9e82a32-cd9e-4907-aaec-e8e72d4b7a9c",
   "metadata": {},
   "outputs": [
    {
     "data": {
      "text/html": [
       "<div>\n",
       "<style scoped>\n",
       "    .dataframe tbody tr th:only-of-type {\n",
       "        vertical-align: middle;\n",
       "    }\n",
       "\n",
       "    .dataframe tbody tr th {\n",
       "        vertical-align: top;\n",
       "    }\n",
       "\n",
       "    .dataframe thead th {\n",
       "        text-align: right;\n",
       "    }\n",
       "</style>\n",
       "<table border=\"1\" class=\"dataframe\">\n",
       "  <thead>\n",
       "    <tr style=\"text-align: right;\">\n",
       "      <th></th>\n",
       "      <th>Maas</th>\n",
       "      <th>Yas</th>\n",
       "      <th>Calisma Saati</th>\n",
       "      <th>Emeklilik Yasi</th>\n",
       "      <th>Emeklilik gunu</th>\n",
       "    </tr>\n",
       "  </thead>\n",
       "  <tbody>\n",
       "    <tr>\n",
       "      <th>Atil</th>\n",
       "      <td>-0.063693</td>\n",
       "      <td>-0.054711</td>\n",
       "      <td>-2.042367</td>\n",
       "      <td>60</td>\n",
       "      <td>120</td>\n",
       "    </tr>\n",
       "    <tr>\n",
       "      <th>Zeynep</th>\n",
       "      <td>-0.279084</td>\n",
       "      <td>0.631983</td>\n",
       "      <td>-0.266856</td>\n",
       "      <td>61</td>\n",
       "      <td>122</td>\n",
       "    </tr>\n",
       "    <tr>\n",
       "      <th>Atlas</th>\n",
       "      <td>-0.310763</td>\n",
       "      <td>1.309436</td>\n",
       "      <td>-0.259441</td>\n",
       "      <td>63</td>\n",
       "      <td>126</td>\n",
       "    </tr>\n",
       "    <tr>\n",
       "      <th>Mehmet</th>\n",
       "      <td>-0.273666</td>\n",
       "      <td>-0.736479</td>\n",
       "      <td>-0.489472</td>\n",
       "      <td>68</td>\n",
       "      <td>136</td>\n",
       "    </tr>\n",
       "  </tbody>\n",
       "</table>\n",
       "</div>"
      ],
      "text/plain": [
       "            Maas       Yas  Calisma Saati  Emeklilik Yasi  Emeklilik gunu\n",
       "Atil   -0.063693 -0.054711      -2.042367              60             120\n",
       "Zeynep -0.279084  0.631983      -0.266856              61             122\n",
       "Atlas  -0.310763  1.309436      -0.259441              63             126\n",
       "Mehmet -0.273666 -0.736479      -0.489472              68             136"
      ]
     },
     "execution_count": 75,
     "metadata": {},
     "output_type": "execute_result"
    }
   ],
   "source": [
    "yeniDataframe[\"Emeklilik gunu\"]= yeniDataframe[\"Emeklilik Yasi\"]+yeniDataframe[\"Emeklilik Yasi\"]    # yeni eklenecek stun da bu toplam olsun\n",
    "yeniDataframe"
   ]
  },
  {
   "cell_type": "markdown",
   "id": "ccd54edf-b0cf-4d3a-a79f-e95cc312bf68",
   "metadata": {},
   "source": [
    "#### KOLON SİLME"
   ]
  },
  {
   "cell_type": "code",
   "execution_count": 76,
   "id": "f723ed94-9872-4600-a546-adde829b202c",
   "metadata": {},
   "outputs": [
    {
     "data": {
      "text/html": [
       "<div>\n",
       "<style scoped>\n",
       "    .dataframe tbody tr th:only-of-type {\n",
       "        vertical-align: middle;\n",
       "    }\n",
       "\n",
       "    .dataframe tbody tr th {\n",
       "        vertical-align: top;\n",
       "    }\n",
       "\n",
       "    .dataframe thead th {\n",
       "        text-align: right;\n",
       "    }\n",
       "</style>\n",
       "<table border=\"1\" class=\"dataframe\">\n",
       "  <thead>\n",
       "    <tr style=\"text-align: right;\">\n",
       "      <th></th>\n",
       "      <th>Maas</th>\n",
       "      <th>Yas</th>\n",
       "      <th>Emeklilik Yasi</th>\n",
       "      <th>Emeklilik gunu</th>\n",
       "    </tr>\n",
       "  </thead>\n",
       "  <tbody>\n",
       "    <tr>\n",
       "      <th>Atil</th>\n",
       "      <td>-0.063693</td>\n",
       "      <td>-0.054711</td>\n",
       "      <td>60</td>\n",
       "      <td>120</td>\n",
       "    </tr>\n",
       "    <tr>\n",
       "      <th>Zeynep</th>\n",
       "      <td>-0.279084</td>\n",
       "      <td>0.631983</td>\n",
       "      <td>61</td>\n",
       "      <td>122</td>\n",
       "    </tr>\n",
       "    <tr>\n",
       "      <th>Atlas</th>\n",
       "      <td>-0.310763</td>\n",
       "      <td>1.309436</td>\n",
       "      <td>63</td>\n",
       "      <td>126</td>\n",
       "    </tr>\n",
       "    <tr>\n",
       "      <th>Mehmet</th>\n",
       "      <td>-0.273666</td>\n",
       "      <td>-0.736479</td>\n",
       "      <td>68</td>\n",
       "      <td>136</td>\n",
       "    </tr>\n",
       "  </tbody>\n",
       "</table>\n",
       "</div>"
      ],
      "text/plain": [
       "            Maas       Yas  Emeklilik Yasi  Emeklilik gunu\n",
       "Atil   -0.063693 -0.054711              60             120\n",
       "Zeynep -0.279084  0.631983              61             122\n",
       "Atlas  -0.310763  1.309436              63             126\n",
       "Mehmet -0.273666 -0.736479              68             136"
      ]
     },
     "execution_count": 76,
     "metadata": {},
     "output_type": "execute_result"
    }
   ],
   "source": [
    "yeniDataframe.drop(\"Calisma Saati\",axis=1)  #axis eksen gibi düşünülebilir   - 1 stun --- 0 satır\n",
    "\n",
    "#axis otomatik olarak 0 gelir  "
   ]
  },
  {
   "cell_type": "markdown",
   "id": "08dcf80f-dd2a-42b8-94c7-6627acacc368",
   "metadata": {},
   "source": [
    "#### satır silme "
   ]
  },
  {
   "cell_type": "code",
   "execution_count": 80,
   "id": "8064e7c1-c09e-46fe-bada-e63a9bda6572",
   "metadata": {},
   "outputs": [
    {
     "data": {
      "text/html": [
       "<div>\n",
       "<style scoped>\n",
       "    .dataframe tbody tr th:only-of-type {\n",
       "        vertical-align: middle;\n",
       "    }\n",
       "\n",
       "    .dataframe tbody tr th {\n",
       "        vertical-align: top;\n",
       "    }\n",
       "\n",
       "    .dataframe thead th {\n",
       "        text-align: right;\n",
       "    }\n",
       "</style>\n",
       "<table border=\"1\" class=\"dataframe\">\n",
       "  <thead>\n",
       "    <tr style=\"text-align: right;\">\n",
       "      <th></th>\n",
       "      <th>Maas</th>\n",
       "      <th>Yas</th>\n",
       "      <th>Calisma Saati</th>\n",
       "      <th>Emeklilik Yasi</th>\n",
       "      <th>Emeklilik gunu</th>\n",
       "    </tr>\n",
       "  </thead>\n",
       "  <tbody>\n",
       "    <tr>\n",
       "      <th>Atil</th>\n",
       "      <td>-0.063693</td>\n",
       "      <td>-0.054711</td>\n",
       "      <td>-2.042367</td>\n",
       "      <td>60</td>\n",
       "      <td>120</td>\n",
       "    </tr>\n",
       "    <tr>\n",
       "      <th>Zeynep</th>\n",
       "      <td>-0.279084</td>\n",
       "      <td>0.631983</td>\n",
       "      <td>-0.266856</td>\n",
       "      <td>61</td>\n",
       "      <td>122</td>\n",
       "    </tr>\n",
       "    <tr>\n",
       "      <th>Mehmet</th>\n",
       "      <td>-0.273666</td>\n",
       "      <td>-0.736479</td>\n",
       "      <td>-0.489472</td>\n",
       "      <td>68</td>\n",
       "      <td>136</td>\n",
       "    </tr>\n",
       "  </tbody>\n",
       "</table>\n",
       "</div>"
      ],
      "text/plain": [
       "            Maas       Yas  Calisma Saati  Emeklilik Yasi  Emeklilik gunu\n",
       "Atil   -0.063693 -0.054711      -2.042367              60             120\n",
       "Zeynep -0.279084  0.631983      -0.266856              61             122\n",
       "Mehmet -0.273666 -0.736479      -0.489472              68             136"
      ]
     },
     "execution_count": 80,
     "metadata": {},
     "output_type": "execute_result"
    }
   ],
   "source": [
    "yeniDataframe.drop(\"Atlas\")  #axis=0 yazmad da aynı işe yarar yazmasask da olur   axis yazmadık  "
   ]
  },
  {
   "cell_type": "code",
   "execution_count": 81,
   "id": "dfe2d6f1-32ce-4d9f-a299-85bf1773b254",
   "metadata": {},
   "outputs": [
    {
     "data": {
      "text/html": [
       "<div>\n",
       "<style scoped>\n",
       "    .dataframe tbody tr th:only-of-type {\n",
       "        vertical-align: middle;\n",
       "    }\n",
       "\n",
       "    .dataframe tbody tr th {\n",
       "        vertical-align: top;\n",
       "    }\n",
       "\n",
       "    .dataframe thead th {\n",
       "        text-align: right;\n",
       "    }\n",
       "</style>\n",
       "<table border=\"1\" class=\"dataframe\">\n",
       "  <thead>\n",
       "    <tr style=\"text-align: right;\">\n",
       "      <th></th>\n",
       "      <th>Maas</th>\n",
       "      <th>Yas</th>\n",
       "      <th>Calisma Saati</th>\n",
       "      <th>Emeklilik Yasi</th>\n",
       "      <th>Emeklilik gunu</th>\n",
       "    </tr>\n",
       "  </thead>\n",
       "  <tbody>\n",
       "    <tr>\n",
       "      <th>Atil</th>\n",
       "      <td>-0.063693</td>\n",
       "      <td>-0.054711</td>\n",
       "      <td>-2.042367</td>\n",
       "      <td>60</td>\n",
       "      <td>120</td>\n",
       "    </tr>\n",
       "    <tr>\n",
       "      <th>Zeynep</th>\n",
       "      <td>-0.279084</td>\n",
       "      <td>0.631983</td>\n",
       "      <td>-0.266856</td>\n",
       "      <td>61</td>\n",
       "      <td>122</td>\n",
       "    </tr>\n",
       "    <tr>\n",
       "      <th>Mehmet</th>\n",
       "      <td>-0.273666</td>\n",
       "      <td>-0.736479</td>\n",
       "      <td>-0.489472</td>\n",
       "      <td>68</td>\n",
       "      <td>136</td>\n",
       "    </tr>\n",
       "  </tbody>\n",
       "</table>\n",
       "</div>"
      ],
      "text/plain": [
       "            Maas       Yas  Calisma Saati  Emeklilik Yasi  Emeklilik gunu\n",
       "Atil   -0.063693 -0.054711      -2.042367              60             120\n",
       "Zeynep -0.279084  0.631983      -0.266856              61             122\n",
       "Mehmet -0.273666 -0.736479      -0.489472              68             136"
      ]
     },
     "execution_count": 81,
     "metadata": {},
     "output_type": "execute_result"
    }
   ],
   "source": [
    "yeniDataframe.drop(\"Atlas\", axis=0 )  #axis=0 yazmadan da aynı işe yarar yazmasask da olur  axis yazdık  "
   ]
  },
  {
   "cell_type": "code",
   "execution_count": null,
   "id": "e10d5b39-3e46-4484-a6be-13de12e67a86",
   "metadata": {},
   "outputs": [],
   "source": []
  },
  {
   "cell_type": "markdown",
   "id": "a78f11ad-cb05-4fcf-8991-5c3a99a06580",
   "metadata": {},
   "source": [
    "#### tüm bu satırda ekleme çıkarma işlemleri kopya üzerinde yaplır ana yapıyı değiştirmez"
   ]
  },
  {
   "cell_type": "code",
   "execution_count": 82,
   "id": "2300a1c5-0b6f-434d-a45c-f02000bca02c",
   "metadata": {},
   "outputs": [
    {
     "data": {
      "text/html": [
       "<div>\n",
       "<style scoped>\n",
       "    .dataframe tbody tr th:only-of-type {\n",
       "        vertical-align: middle;\n",
       "    }\n",
       "\n",
       "    .dataframe tbody tr th {\n",
       "        vertical-align: top;\n",
       "    }\n",
       "\n",
       "    .dataframe thead th {\n",
       "        text-align: right;\n",
       "    }\n",
       "</style>\n",
       "<table border=\"1\" class=\"dataframe\">\n",
       "  <thead>\n",
       "    <tr style=\"text-align: right;\">\n",
       "      <th></th>\n",
       "      <th>Maas</th>\n",
       "      <th>Yas</th>\n",
       "      <th>Calisma Saati</th>\n",
       "      <th>Emeklilik Yasi</th>\n",
       "      <th>Emeklilik gunu</th>\n",
       "    </tr>\n",
       "  </thead>\n",
       "  <tbody>\n",
       "    <tr>\n",
       "      <th>Atil</th>\n",
       "      <td>-0.063693</td>\n",
       "      <td>-0.054711</td>\n",
       "      <td>-2.042367</td>\n",
       "      <td>60</td>\n",
       "      <td>120</td>\n",
       "    </tr>\n",
       "    <tr>\n",
       "      <th>Zeynep</th>\n",
       "      <td>-0.279084</td>\n",
       "      <td>0.631983</td>\n",
       "      <td>-0.266856</td>\n",
       "      <td>61</td>\n",
       "      <td>122</td>\n",
       "    </tr>\n",
       "    <tr>\n",
       "      <th>Atlas</th>\n",
       "      <td>-0.310763</td>\n",
       "      <td>1.309436</td>\n",
       "      <td>-0.259441</td>\n",
       "      <td>63</td>\n",
       "      <td>126</td>\n",
       "    </tr>\n",
       "    <tr>\n",
       "      <th>Mehmet</th>\n",
       "      <td>-0.273666</td>\n",
       "      <td>-0.736479</td>\n",
       "      <td>-0.489472</td>\n",
       "      <td>68</td>\n",
       "      <td>136</td>\n",
       "    </tr>\n",
       "  </tbody>\n",
       "</table>\n",
       "</div>"
      ],
      "text/plain": [
       "            Maas       Yas  Calisma Saati  Emeklilik Yasi  Emeklilik gunu\n",
       "Atil   -0.063693 -0.054711      -2.042367              60             120\n",
       "Zeynep -0.279084  0.631983      -0.266856              61             122\n",
       "Atlas  -0.310763  1.309436      -0.259441              63             126\n",
       "Mehmet -0.273666 -0.736479      -0.489472              68             136"
      ]
     },
     "execution_count": 82,
     "metadata": {},
     "output_type": "execute_result"
    }
   ],
   "source": [
    "yeniDataframe"
   ]
  },
  {
   "cell_type": "markdown",
   "id": "e5d0463b-6f29-4421-8d3a-af33085b77b3",
   "metadata": {},
   "source": [
    "#### kalıcı değişiklik yapma "
   ]
  },
  {
   "cell_type": "code",
   "execution_count": 83,
   "id": "745c7f9b-d019-4d24-9214-0b16291d0443",
   "metadata": {},
   "outputs": [],
   "source": [
    "yeniDataframe.drop(\"Emeklilik Yasi\",axis=1,inplace=True)\n",
    "#inplace değeri default olarak false dir TRUE olunca kalıcı değişiklik yapar  "
   ]
  },
  {
   "cell_type": "code",
   "execution_count": 84,
   "id": "be285db2-e4fd-40e8-ab43-7924ef90543a",
   "metadata": {},
   "outputs": [
    {
     "data": {
      "text/html": [
       "<div>\n",
       "<style scoped>\n",
       "    .dataframe tbody tr th:only-of-type {\n",
       "        vertical-align: middle;\n",
       "    }\n",
       "\n",
       "    .dataframe tbody tr th {\n",
       "        vertical-align: top;\n",
       "    }\n",
       "\n",
       "    .dataframe thead th {\n",
       "        text-align: right;\n",
       "    }\n",
       "</style>\n",
       "<table border=\"1\" class=\"dataframe\">\n",
       "  <thead>\n",
       "    <tr style=\"text-align: right;\">\n",
       "      <th></th>\n",
       "      <th>Maas</th>\n",
       "      <th>Yas</th>\n",
       "      <th>Calisma Saati</th>\n",
       "      <th>Emeklilik gunu</th>\n",
       "    </tr>\n",
       "  </thead>\n",
       "  <tbody>\n",
       "    <tr>\n",
       "      <th>Atil</th>\n",
       "      <td>-0.063693</td>\n",
       "      <td>-0.054711</td>\n",
       "      <td>-2.042367</td>\n",
       "      <td>120</td>\n",
       "    </tr>\n",
       "    <tr>\n",
       "      <th>Zeynep</th>\n",
       "      <td>-0.279084</td>\n",
       "      <td>0.631983</td>\n",
       "      <td>-0.266856</td>\n",
       "      <td>122</td>\n",
       "    </tr>\n",
       "    <tr>\n",
       "      <th>Atlas</th>\n",
       "      <td>-0.310763</td>\n",
       "      <td>1.309436</td>\n",
       "      <td>-0.259441</td>\n",
       "      <td>126</td>\n",
       "    </tr>\n",
       "    <tr>\n",
       "      <th>Mehmet</th>\n",
       "      <td>-0.273666</td>\n",
       "      <td>-0.736479</td>\n",
       "      <td>-0.489472</td>\n",
       "      <td>136</td>\n",
       "    </tr>\n",
       "  </tbody>\n",
       "</table>\n",
       "</div>"
      ],
      "text/plain": [
       "            Maas       Yas  Calisma Saati  Emeklilik gunu\n",
       "Atil   -0.063693 -0.054711      -2.042367             120\n",
       "Zeynep -0.279084  0.631983      -0.266856             122\n",
       "Atlas  -0.310763  1.309436      -0.259441             126\n",
       "Mehmet -0.273666 -0.736479      -0.489472             136"
      ]
     },
     "execution_count": 84,
     "metadata": {},
     "output_type": "execute_result"
    }
   ],
   "source": [
    "yeniDataframe"
   ]
  },
  {
   "cell_type": "code",
   "execution_count": null,
   "id": "efda25b9-df87-440a-9752-355e09807654",
   "metadata": {},
   "outputs": [],
   "source": []
  },
  {
   "cell_type": "code",
   "execution_count": 86,
   "id": "82d40cea-520e-4494-854c-a70df21ed73b",
   "metadata": {},
   "outputs": [
    {
     "data": {
      "text/plain": [
       "np.float64(-0.05471113162025513)"
      ]
     },
     "execution_count": 86,
     "metadata": {},
     "output_type": "execute_result"
    }
   ],
   "source": [
    "yeniDataframe.loc[\"Atil\"][\"Yas\"] ## istenene değeri alma --- satır stun karşılığını allıyoruz ."
   ]
  },
  {
   "cell_type": "code",
   "execution_count": 87,
   "id": "64a24ba1-9d03-4a83-b589-4ef791a80b4b",
   "metadata": {},
   "outputs": [
    {
     "data": {
      "text/plain": [
       "np.float64(-0.05471113162025513)"
      ]
     },
     "execution_count": 87,
     "metadata": {},
     "output_type": "execute_result"
    }
   ],
   "source": [
    "yeniDataframe.loc[\"Atil\",\"Yas\"]"
   ]
  },
  {
   "cell_type": "code",
   "execution_count": null,
   "id": "92522fb7-0b2a-4629-9c13-fd9add787644",
   "metadata": {},
   "outputs": [],
   "source": []
  },
  {
   "cell_type": "code",
   "execution_count": 88,
   "id": "8d3d9568-7110-422e-ae18-baf029c7d073",
   "metadata": {},
   "outputs": [
    {
     "data": {
      "text/html": [
       "<div>\n",
       "<style scoped>\n",
       "    .dataframe tbody tr th:only-of-type {\n",
       "        vertical-align: middle;\n",
       "    }\n",
       "\n",
       "    .dataframe tbody tr th {\n",
       "        vertical-align: top;\n",
       "    }\n",
       "\n",
       "    .dataframe thead th {\n",
       "        text-align: right;\n",
       "    }\n",
       "</style>\n",
       "<table border=\"1\" class=\"dataframe\">\n",
       "  <thead>\n",
       "    <tr style=\"text-align: right;\">\n",
       "      <th></th>\n",
       "      <th>Maas</th>\n",
       "      <th>Yas</th>\n",
       "      <th>Calisma Saati</th>\n",
       "      <th>Emeklilik gunu</th>\n",
       "    </tr>\n",
       "  </thead>\n",
       "  <tbody>\n",
       "    <tr>\n",
       "      <th>Atil</th>\n",
       "      <td>-0.063693</td>\n",
       "      <td>-0.054711</td>\n",
       "      <td>-2.042367</td>\n",
       "      <td>120</td>\n",
       "    </tr>\n",
       "    <tr>\n",
       "      <th>Zeynep</th>\n",
       "      <td>-0.279084</td>\n",
       "      <td>0.631983</td>\n",
       "      <td>-0.266856</td>\n",
       "      <td>122</td>\n",
       "    </tr>\n",
       "    <tr>\n",
       "      <th>Atlas</th>\n",
       "      <td>-0.310763</td>\n",
       "      <td>1.309436</td>\n",
       "      <td>-0.259441</td>\n",
       "      <td>126</td>\n",
       "    </tr>\n",
       "    <tr>\n",
       "      <th>Mehmet</th>\n",
       "      <td>-0.273666</td>\n",
       "      <td>-0.736479</td>\n",
       "      <td>-0.489472</td>\n",
       "      <td>136</td>\n",
       "    </tr>\n",
       "  </tbody>\n",
       "</table>\n",
       "</div>"
      ],
      "text/plain": [
       "            Maas       Yas  Calisma Saati  Emeklilik gunu\n",
       "Atil   -0.063693 -0.054711      -2.042367             120\n",
       "Zeynep -0.279084  0.631983      -0.266856             122\n",
       "Atlas  -0.310763  1.309436      -0.259441             126\n",
       "Mehmet -0.273666 -0.736479      -0.489472             136"
      ]
     },
     "execution_count": 88,
     "metadata": {},
     "output_type": "execute_result"
    }
   ],
   "source": [
    "yeniDataframe\n"
   ]
  },
  {
   "cell_type": "code",
   "execution_count": 89,
   "id": "6bb36893-2fcc-416f-99ac-d7211feab57a",
   "metadata": {},
   "outputs": [],
   "source": [
    " #istenen değerden küçük büyükleri bulma "
   ]
  },
  {
   "cell_type": "code",
   "execution_count": 90,
   "id": "efc8bd6e-d69a-4c76-b89b-f040061606dc",
   "metadata": {},
   "outputs": [
    {
     "data": {
      "text/html": [
       "<div>\n",
       "<style scoped>\n",
       "    .dataframe tbody tr th:only-of-type {\n",
       "        vertical-align: middle;\n",
       "    }\n",
       "\n",
       "    .dataframe tbody tr th {\n",
       "        vertical-align: top;\n",
       "    }\n",
       "\n",
       "    .dataframe thead th {\n",
       "        text-align: right;\n",
       "    }\n",
       "</style>\n",
       "<table border=\"1\" class=\"dataframe\">\n",
       "  <thead>\n",
       "    <tr style=\"text-align: right;\">\n",
       "      <th></th>\n",
       "      <th>Maas</th>\n",
       "      <th>Yas</th>\n",
       "      <th>Calisma Saati</th>\n",
       "      <th>Emeklilik gunu</th>\n",
       "    </tr>\n",
       "  </thead>\n",
       "  <tbody>\n",
       "    <tr>\n",
       "      <th>Atil</th>\n",
       "      <td>True</td>\n",
       "      <td>True</td>\n",
       "      <td>True</td>\n",
       "      <td>False</td>\n",
       "    </tr>\n",
       "    <tr>\n",
       "      <th>Zeynep</th>\n",
       "      <td>True</td>\n",
       "      <td>False</td>\n",
       "      <td>True</td>\n",
       "      <td>False</td>\n",
       "    </tr>\n",
       "    <tr>\n",
       "      <th>Atlas</th>\n",
       "      <td>True</td>\n",
       "      <td>False</td>\n",
       "      <td>True</td>\n",
       "      <td>False</td>\n",
       "    </tr>\n",
       "    <tr>\n",
       "      <th>Mehmet</th>\n",
       "      <td>True</td>\n",
       "      <td>True</td>\n",
       "      <td>True</td>\n",
       "      <td>False</td>\n",
       "    </tr>\n",
       "  </tbody>\n",
       "</table>\n",
       "</div>"
      ],
      "text/plain": [
       "        Maas    Yas  Calisma Saati  Emeklilik gunu\n",
       "Atil    True   True           True           False\n",
       "Zeynep  True  False           True           False\n",
       "Atlas   True  False           True           False\n",
       "Mehmet  True   True           True           False"
      ]
     },
     "execution_count": 90,
     "metadata": {},
     "output_type": "execute_result"
    }
   ],
   "source": [
    "yeniDataframe<0"
   ]
  },
  {
   "cell_type": "code",
   "execution_count": 100,
   "id": "f94f2889-d5e2-409c-a7fc-9f2a36ff7943",
   "metadata": {},
   "outputs": [
    {
     "data": {
      "text/html": [
       "<div>\n",
       "<style scoped>\n",
       "    .dataframe tbody tr th:only-of-type {\n",
       "        vertical-align: middle;\n",
       "    }\n",
       "\n",
       "    .dataframe tbody tr th {\n",
       "        vertical-align: top;\n",
       "    }\n",
       "\n",
       "    .dataframe thead th {\n",
       "        text-align: right;\n",
       "    }\n",
       "</style>\n",
       "<table border=\"1\" class=\"dataframe\">\n",
       "  <thead>\n",
       "    <tr style=\"text-align: right;\">\n",
       "      <th></th>\n",
       "      <th>Maas</th>\n",
       "      <th>Yas</th>\n",
       "      <th>Calisma Saati</th>\n",
       "      <th>Emeklilik gunu</th>\n",
       "    </tr>\n",
       "  </thead>\n",
       "  <tbody>\n",
       "    <tr>\n",
       "      <th>Atil</th>\n",
       "      <td>False</td>\n",
       "      <td>False</td>\n",
       "      <td>False</td>\n",
       "      <td>True</td>\n",
       "    </tr>\n",
       "    <tr>\n",
       "      <th>Zeynep</th>\n",
       "      <td>False</td>\n",
       "      <td>True</td>\n",
       "      <td>False</td>\n",
       "      <td>True</td>\n",
       "    </tr>\n",
       "    <tr>\n",
       "      <th>Atlas</th>\n",
       "      <td>False</td>\n",
       "      <td>True</td>\n",
       "      <td>False</td>\n",
       "      <td>True</td>\n",
       "    </tr>\n",
       "    <tr>\n",
       "      <th>Mehmet</th>\n",
       "      <td>False</td>\n",
       "      <td>False</td>\n",
       "      <td>False</td>\n",
       "      <td>True</td>\n",
       "    </tr>\n",
       "  </tbody>\n",
       "</table>\n",
       "</div>"
      ],
      "text/plain": [
       "         Maas    Yas  Calisma Saati  Emeklilik gunu\n",
       "Atil    False  False          False            True\n",
       "Zeynep  False   True          False            True\n",
       "Atlas   False   True          False            True\n",
       "Mehmet  False  False          False            True"
      ]
     },
     "execution_count": 100,
     "metadata": {},
     "output_type": "execute_result"
    }
   ],
   "source": [
    "boleanFrame=yeniDataframe>0 #0 dan büyükleri true işaretler\n",
    "boleanFrame\n"
   ]
  },
  {
   "cell_type": "code",
   "execution_count": 101,
   "id": "5ab07426-57f3-4b3f-99ed-bb9538560acd",
   "metadata": {},
   "outputs": [
    {
     "data": {
      "text/html": [
       "<div>\n",
       "<style scoped>\n",
       "    .dataframe tbody tr th:only-of-type {\n",
       "        vertical-align: middle;\n",
       "    }\n",
       "\n",
       "    .dataframe tbody tr th {\n",
       "        vertical-align: top;\n",
       "    }\n",
       "\n",
       "    .dataframe thead th {\n",
       "        text-align: right;\n",
       "    }\n",
       "</style>\n",
       "<table border=\"1\" class=\"dataframe\">\n",
       "  <thead>\n",
       "    <tr style=\"text-align: right;\">\n",
       "      <th></th>\n",
       "      <th>Maas</th>\n",
       "      <th>Yas</th>\n",
       "      <th>Calisma Saati</th>\n",
       "      <th>Emeklilik gunu</th>\n",
       "    </tr>\n",
       "  </thead>\n",
       "  <tbody>\n",
       "    <tr>\n",
       "      <th>Atil</th>\n",
       "      <td>NaN</td>\n",
       "      <td>NaN</td>\n",
       "      <td>NaN</td>\n",
       "      <td>120</td>\n",
       "    </tr>\n",
       "    <tr>\n",
       "      <th>Zeynep</th>\n",
       "      <td>NaN</td>\n",
       "      <td>0.631983</td>\n",
       "      <td>NaN</td>\n",
       "      <td>122</td>\n",
       "    </tr>\n",
       "    <tr>\n",
       "      <th>Atlas</th>\n",
       "      <td>NaN</td>\n",
       "      <td>1.309436</td>\n",
       "      <td>NaN</td>\n",
       "      <td>126</td>\n",
       "    </tr>\n",
       "    <tr>\n",
       "      <th>Mehmet</th>\n",
       "      <td>NaN</td>\n",
       "      <td>NaN</td>\n",
       "      <td>NaN</td>\n",
       "      <td>136</td>\n",
       "    </tr>\n",
       "  </tbody>\n",
       "</table>\n",
       "</div>"
      ],
      "text/plain": [
       "        Maas       Yas  Calisma Saati  Emeklilik gunu\n",
       "Atil     NaN       NaN            NaN             120\n",
       "Zeynep   NaN  0.631983            NaN             122\n",
       "Atlas    NaN  1.309436            NaN             126\n",
       "Mehmet   NaN       NaN            NaN             136"
      ]
     },
     "execution_count": 101,
     "metadata": {},
     "output_type": "execute_result"
    }
   ],
   "source": [
    "yeniDataframe[boleanFrame]  #0 dan büyük olan değerleri yazar "
   ]
  },
  {
   "cell_type": "code",
   "execution_count": null,
   "id": "4b1f6673-0764-4943-8d3e-884524e98cd5",
   "metadata": {},
   "outputs": [],
   "source": []
  },
  {
   "cell_type": "code",
   "execution_count": 107,
   "id": "f76c2caf-fcf7-4680-a075-2e2806af819e",
   "metadata": {},
   "outputs": [
    {
     "data": {
      "text/html": [
       "<div>\n",
       "<style scoped>\n",
       "    .dataframe tbody tr th:only-of-type {\n",
       "        vertical-align: middle;\n",
       "    }\n",
       "\n",
       "    .dataframe tbody tr th {\n",
       "        vertical-align: top;\n",
       "    }\n",
       "\n",
       "    .dataframe thead th {\n",
       "        text-align: right;\n",
       "    }\n",
       "</style>\n",
       "<table border=\"1\" class=\"dataframe\">\n",
       "  <thead>\n",
       "    <tr style=\"text-align: right;\">\n",
       "      <th></th>\n",
       "      <th>Maas</th>\n",
       "      <th>Yas</th>\n",
       "      <th>Calisma Saati</th>\n",
       "      <th>Emeklilik gunu</th>\n",
       "    </tr>\n",
       "  </thead>\n",
       "  <tbody>\n",
       "    <tr>\n",
       "      <th>Zeynep</th>\n",
       "      <td>-0.279084</td>\n",
       "      <td>0.631983</td>\n",
       "      <td>-0.266856</td>\n",
       "      <td>122</td>\n",
       "    </tr>\n",
       "    <tr>\n",
       "      <th>Atlas</th>\n",
       "      <td>-0.310763</td>\n",
       "      <td>1.309436</td>\n",
       "      <td>-0.259441</td>\n",
       "      <td>126</td>\n",
       "    </tr>\n",
       "  </tbody>\n",
       "</table>\n",
       "</div>"
      ],
      "text/plain": [
       "            Maas       Yas  Calisma Saati  Emeklilik gunu\n",
       "Zeynep -0.279084  0.631983      -0.266856             122\n",
       "Atlas  -0.310763  1.309436      -0.259441             126"
      ]
     },
     "execution_count": 107,
     "metadata": {},
     "output_type": "execute_result"
    }
   ],
   "source": [
    "yeniDataframe[yeniDataframe[\"Yas\"]>0]  ##yaş 0 dan büyük olan satırları yazdırdı ."
   ]
  },
  {
   "cell_type": "code",
   "execution_count": null,
   "id": "c5bf7922-3a80-4403-b362-cc53ce7c3f03",
   "metadata": {},
   "outputs": [],
   "source": []
  },
  {
   "cell_type": "markdown",
   "id": "c3bee21f-ee24-4159-bfe0-4d8498a0ba41",
   "metadata": {},
   "source": [
    "### İNDEX DEĞİŞTİRME "
   ]
  },
  {
   "cell_type": "code",
   "execution_count": null,
   "id": "6b544670-0dc8-4c67-9839-01bcae6aab24",
   "metadata": {},
   "outputs": [],
   "source": []
  },
  {
   "cell_type": "code",
   "execution_count": 112,
   "id": "1afb8002-cb49-4b74-843c-d23557a4c95c",
   "metadata": {},
   "outputs": [
    {
     "data": {
      "text/html": [
       "<div>\n",
       "<style scoped>\n",
       "    .dataframe tbody tr th:only-of-type {\n",
       "        vertical-align: middle;\n",
       "    }\n",
       "\n",
       "    .dataframe tbody tr th {\n",
       "        vertical-align: top;\n",
       "    }\n",
       "\n",
       "    .dataframe thead th {\n",
       "        text-align: right;\n",
       "    }\n",
       "</style>\n",
       "<table border=\"1\" class=\"dataframe\">\n",
       "  <thead>\n",
       "    <tr style=\"text-align: right;\">\n",
       "      <th></th>\n",
       "      <th>index</th>\n",
       "      <th>Maas</th>\n",
       "      <th>Yas</th>\n",
       "      <th>Calisma Saati</th>\n",
       "      <th>Emeklilik gunu</th>\n",
       "    </tr>\n",
       "  </thead>\n",
       "  <tbody>\n",
       "    <tr>\n",
       "      <th>0</th>\n",
       "      <td>Atil</td>\n",
       "      <td>-0.063693</td>\n",
       "      <td>-0.054711</td>\n",
       "      <td>-2.042367</td>\n",
       "      <td>120</td>\n",
       "    </tr>\n",
       "    <tr>\n",
       "      <th>1</th>\n",
       "      <td>Zeynep</td>\n",
       "      <td>-0.279084</td>\n",
       "      <td>0.631983</td>\n",
       "      <td>-0.266856</td>\n",
       "      <td>122</td>\n",
       "    </tr>\n",
       "    <tr>\n",
       "      <th>2</th>\n",
       "      <td>Atlas</td>\n",
       "      <td>-0.310763</td>\n",
       "      <td>1.309436</td>\n",
       "      <td>-0.259441</td>\n",
       "      <td>126</td>\n",
       "    </tr>\n",
       "    <tr>\n",
       "      <th>3</th>\n",
       "      <td>Mehmet</td>\n",
       "      <td>-0.273666</td>\n",
       "      <td>-0.736479</td>\n",
       "      <td>-0.489472</td>\n",
       "      <td>136</td>\n",
       "    </tr>\n",
       "  </tbody>\n",
       "</table>\n",
       "</div>"
      ],
      "text/plain": [
       "    index      Maas       Yas  Calisma Saati  Emeklilik gunu\n",
       "0    Atil -0.063693 -0.054711      -2.042367             120\n",
       "1  Zeynep -0.279084  0.631983      -0.266856             122\n",
       "2   Atlas -0.310763  1.309436      -0.259441             126\n",
       "3  Mehmet -0.273666 -0.736479      -0.489472             136"
      ]
     },
     "execution_count": 112,
     "metadata": {},
     "output_type": "execute_result"
    }
   ],
   "source": [
    "yeniDataframe.reset_index()"
   ]
  },
  {
   "cell_type": "code",
   "execution_count": 110,
   "id": "2aa48516-e8b0-4cb1-af97-39c124d6c68e",
   "metadata": {},
   "outputs": [
    {
     "data": {
      "text/html": [
       "<div>\n",
       "<style scoped>\n",
       "    .dataframe tbody tr th:only-of-type {\n",
       "        vertical-align: middle;\n",
       "    }\n",
       "\n",
       "    .dataframe tbody tr th {\n",
       "        vertical-align: top;\n",
       "    }\n",
       "\n",
       "    .dataframe thead th {\n",
       "        text-align: right;\n",
       "    }\n",
       "</style>\n",
       "<table border=\"1\" class=\"dataframe\">\n",
       "  <thead>\n",
       "    <tr style=\"text-align: right;\">\n",
       "      <th></th>\n",
       "      <th>Maas</th>\n",
       "      <th>Yas</th>\n",
       "      <th>Calisma Saati</th>\n",
       "      <th>Emeklilik gunu</th>\n",
       "    </tr>\n",
       "  </thead>\n",
       "  <tbody>\n",
       "    <tr>\n",
       "      <th>Atil</th>\n",
       "      <td>-0.063693</td>\n",
       "      <td>-0.054711</td>\n",
       "      <td>-2.042367</td>\n",
       "      <td>120</td>\n",
       "    </tr>\n",
       "    <tr>\n",
       "      <th>Zeynep</th>\n",
       "      <td>-0.279084</td>\n",
       "      <td>0.631983</td>\n",
       "      <td>-0.266856</td>\n",
       "      <td>122</td>\n",
       "    </tr>\n",
       "    <tr>\n",
       "      <th>Atlas</th>\n",
       "      <td>-0.310763</td>\n",
       "      <td>1.309436</td>\n",
       "      <td>-0.259441</td>\n",
       "      <td>126</td>\n",
       "    </tr>\n",
       "    <tr>\n",
       "      <th>Mehmet</th>\n",
       "      <td>-0.273666</td>\n",
       "      <td>-0.736479</td>\n",
       "      <td>-0.489472</td>\n",
       "      <td>136</td>\n",
       "    </tr>\n",
       "  </tbody>\n",
       "</table>\n",
       "</div>"
      ],
      "text/plain": [
       "            Maas       Yas  Calisma Saati  Emeklilik gunu\n",
       "Atil   -0.063693 -0.054711      -2.042367             120\n",
       "Zeynep -0.279084  0.631983      -0.266856             122\n",
       "Atlas  -0.310763  1.309436      -0.259441             126\n",
       "Mehmet -0.273666 -0.736479      -0.489472             136"
      ]
     },
     "execution_count": 110,
     "metadata": {},
     "output_type": "execute_result"
    }
   ],
   "source": [
    "yeniDataframe"
   ]
  },
  {
   "cell_type": "code",
   "execution_count": 113,
   "id": "030dff94-7cf0-4bab-a8f0-a1b2542636c9",
   "metadata": {},
   "outputs": [],
   "source": [
    "yeniIndexListesi=[\"Ati\",\"Zey\",\"Atl\",\"Meh\"]  #diyelim ki indexleri bu şekilde güncellemek isteyelim"
   ]
  },
  {
   "cell_type": "code",
   "execution_count": 114,
   "id": "bb5e1c95-4b11-4f15-9e24-1d2f822dfe5e",
   "metadata": {},
   "outputs": [],
   "source": [
    "yeniDataframe[\"Yeni Index\"]=yeniIndexListesi #yeni index kolonun ekledik dataframe ye normal kolon ekleme yöntemi ile  "
   ]
  },
  {
   "cell_type": "code",
   "execution_count": 116,
   "id": "4edb4adb-3779-4188-9245-c74999e1cc90",
   "metadata": {},
   "outputs": [
    {
     "data": {
      "text/html": [
       "<div>\n",
       "<style scoped>\n",
       "    .dataframe tbody tr th:only-of-type {\n",
       "        vertical-align: middle;\n",
       "    }\n",
       "\n",
       "    .dataframe tbody tr th {\n",
       "        vertical-align: top;\n",
       "    }\n",
       "\n",
       "    .dataframe thead th {\n",
       "        text-align: right;\n",
       "    }\n",
       "</style>\n",
       "<table border=\"1\" class=\"dataframe\">\n",
       "  <thead>\n",
       "    <tr style=\"text-align: right;\">\n",
       "      <th></th>\n",
       "      <th>Maas</th>\n",
       "      <th>Yas</th>\n",
       "      <th>Calisma Saati</th>\n",
       "      <th>Emeklilik gunu</th>\n",
       "      <th>Yeni Index</th>\n",
       "    </tr>\n",
       "  </thead>\n",
       "  <tbody>\n",
       "    <tr>\n",
       "      <th>Atil</th>\n",
       "      <td>-0.063693</td>\n",
       "      <td>-0.054711</td>\n",
       "      <td>-2.042367</td>\n",
       "      <td>120</td>\n",
       "      <td>Ati</td>\n",
       "    </tr>\n",
       "    <tr>\n",
       "      <th>Zeynep</th>\n",
       "      <td>-0.279084</td>\n",
       "      <td>0.631983</td>\n",
       "      <td>-0.266856</td>\n",
       "      <td>122</td>\n",
       "      <td>Zey</td>\n",
       "    </tr>\n",
       "    <tr>\n",
       "      <th>Atlas</th>\n",
       "      <td>-0.310763</td>\n",
       "      <td>1.309436</td>\n",
       "      <td>-0.259441</td>\n",
       "      <td>126</td>\n",
       "      <td>Atl</td>\n",
       "    </tr>\n",
       "    <tr>\n",
       "      <th>Mehmet</th>\n",
       "      <td>-0.273666</td>\n",
       "      <td>-0.736479</td>\n",
       "      <td>-0.489472</td>\n",
       "      <td>136</td>\n",
       "      <td>Meh</td>\n",
       "    </tr>\n",
       "  </tbody>\n",
       "</table>\n",
       "</div>"
      ],
      "text/plain": [
       "            Maas       Yas  Calisma Saati  Emeklilik gunu Yeni Index\n",
       "Atil   -0.063693 -0.054711      -2.042367             120        Ati\n",
       "Zeynep -0.279084  0.631983      -0.266856             122        Zey\n",
       "Atlas  -0.310763  1.309436      -0.259441             126        Atl\n",
       "Mehmet -0.273666 -0.736479      -0.489472             136        Meh"
      ]
     },
     "execution_count": 116,
     "metadata": {},
     "output_type": "execute_result"
    }
   ],
   "source": [
    "yeniDataframe "
   ]
  },
  {
   "cell_type": "code",
   "execution_count": 117,
   "id": "396b85c3-e835-4696-a5d2-2331a22efe33",
   "metadata": {},
   "outputs": [
    {
     "data": {
      "text/html": [
       "<div>\n",
       "<style scoped>\n",
       "    .dataframe tbody tr th:only-of-type {\n",
       "        vertical-align: middle;\n",
       "    }\n",
       "\n",
       "    .dataframe tbody tr th {\n",
       "        vertical-align: top;\n",
       "    }\n",
       "\n",
       "    .dataframe thead th {\n",
       "        text-align: right;\n",
       "    }\n",
       "</style>\n",
       "<table border=\"1\" class=\"dataframe\">\n",
       "  <thead>\n",
       "    <tr style=\"text-align: right;\">\n",
       "      <th></th>\n",
       "      <th>Maas</th>\n",
       "      <th>Yas</th>\n",
       "      <th>Calisma Saati</th>\n",
       "      <th>Emeklilik gunu</th>\n",
       "    </tr>\n",
       "    <tr>\n",
       "      <th>Yeni Index</th>\n",
       "      <th></th>\n",
       "      <th></th>\n",
       "      <th></th>\n",
       "      <th></th>\n",
       "    </tr>\n",
       "  </thead>\n",
       "  <tbody>\n",
       "    <tr>\n",
       "      <th>Ati</th>\n",
       "      <td>-0.063693</td>\n",
       "      <td>-0.054711</td>\n",
       "      <td>-2.042367</td>\n",
       "      <td>120</td>\n",
       "    </tr>\n",
       "    <tr>\n",
       "      <th>Zey</th>\n",
       "      <td>-0.279084</td>\n",
       "      <td>0.631983</td>\n",
       "      <td>-0.266856</td>\n",
       "      <td>122</td>\n",
       "    </tr>\n",
       "    <tr>\n",
       "      <th>Atl</th>\n",
       "      <td>-0.310763</td>\n",
       "      <td>1.309436</td>\n",
       "      <td>-0.259441</td>\n",
       "      <td>126</td>\n",
       "    </tr>\n",
       "    <tr>\n",
       "      <th>Meh</th>\n",
       "      <td>-0.273666</td>\n",
       "      <td>-0.736479</td>\n",
       "      <td>-0.489472</td>\n",
       "      <td>136</td>\n",
       "    </tr>\n",
       "  </tbody>\n",
       "</table>\n",
       "</div>"
      ],
      "text/plain": [
       "                Maas       Yas  Calisma Saati  Emeklilik gunu\n",
       "Yeni Index                                                   \n",
       "Ati        -0.063693 -0.054711      -2.042367             120\n",
       "Zey        -0.279084  0.631983      -0.266856             122\n",
       "Atl        -0.310763  1.309436      -0.259441             126\n",
       "Meh        -0.273666 -0.736479      -0.489472             136"
      ]
     },
     "execution_count": 117,
     "metadata": {},
     "output_type": "execute_result"
    }
   ],
   "source": [
    "yeniDataframe.set_index(\"Yeni Index\")   #data framedeki bir stunu yeni indexler olarak ayarladık "
   ]
  },
  {
   "cell_type": "code",
   "execution_count": null,
   "id": "8ccc66f8-0bc3-4f00-b093-e209a1c4ffad",
   "metadata": {},
   "outputs": [],
   "source": [
    "yeniDataframe #yeni data frameyi değiştirmez bu işlemler inplace =true il değişiklikler  işlenir "
   ]
  },
  {
   "cell_type": "code",
   "execution_count": 118,
   "id": "5c3a6f47-e9d8-420e-8884-b6eff17d2195",
   "metadata": {},
   "outputs": [],
   "source": [
    "yeniDataframe.set_index(\"Yeni Index\",inplace=True)"
   ]
  },
  {
   "cell_type": "code",
   "execution_count": 119,
   "id": "77f250d7-ca49-4617-aca0-d33fbbc5d5c7",
   "metadata": {},
   "outputs": [
    {
     "data": {
      "text/html": [
       "<div>\n",
       "<style scoped>\n",
       "    .dataframe tbody tr th:only-of-type {\n",
       "        vertical-align: middle;\n",
       "    }\n",
       "\n",
       "    .dataframe tbody tr th {\n",
       "        vertical-align: top;\n",
       "    }\n",
       "\n",
       "    .dataframe thead th {\n",
       "        text-align: right;\n",
       "    }\n",
       "</style>\n",
       "<table border=\"1\" class=\"dataframe\">\n",
       "  <thead>\n",
       "    <tr style=\"text-align: right;\">\n",
       "      <th></th>\n",
       "      <th>Maas</th>\n",
       "      <th>Yas</th>\n",
       "      <th>Calisma Saati</th>\n",
       "      <th>Emeklilik gunu</th>\n",
       "    </tr>\n",
       "    <tr>\n",
       "      <th>Yeni Index</th>\n",
       "      <th></th>\n",
       "      <th></th>\n",
       "      <th></th>\n",
       "      <th></th>\n",
       "    </tr>\n",
       "  </thead>\n",
       "  <tbody>\n",
       "    <tr>\n",
       "      <th>Ati</th>\n",
       "      <td>-0.063693</td>\n",
       "      <td>-0.054711</td>\n",
       "      <td>-2.042367</td>\n",
       "      <td>120</td>\n",
       "    </tr>\n",
       "    <tr>\n",
       "      <th>Zey</th>\n",
       "      <td>-0.279084</td>\n",
       "      <td>0.631983</td>\n",
       "      <td>-0.266856</td>\n",
       "      <td>122</td>\n",
       "    </tr>\n",
       "    <tr>\n",
       "      <th>Atl</th>\n",
       "      <td>-0.310763</td>\n",
       "      <td>1.309436</td>\n",
       "      <td>-0.259441</td>\n",
       "      <td>126</td>\n",
       "    </tr>\n",
       "    <tr>\n",
       "      <th>Meh</th>\n",
       "      <td>-0.273666</td>\n",
       "      <td>-0.736479</td>\n",
       "      <td>-0.489472</td>\n",
       "      <td>136</td>\n",
       "    </tr>\n",
       "  </tbody>\n",
       "</table>\n",
       "</div>"
      ],
      "text/plain": [
       "                Maas       Yas  Calisma Saati  Emeklilik gunu\n",
       "Yeni Index                                                   \n",
       "Ati        -0.063693 -0.054711      -2.042367             120\n",
       "Zey        -0.279084  0.631983      -0.266856             122\n",
       "Atl        -0.310763  1.309436      -0.259441             126\n",
       "Meh        -0.273666 -0.736479      -0.489472             136"
      ]
     },
     "execution_count": 119,
     "metadata": {},
     "output_type": "execute_result"
    }
   ],
   "source": [
    "yeniDataframe #değişiklikler kaydedildi "
   ]
  },
  {
   "cell_type": "code",
   "execution_count": 121,
   "id": "d4fc98ed-fbdb-4e11-b902-02f7d2123d7c",
   "metadata": {},
   "outputs": [
    {
     "data": {
      "text/plain": [
       "Maas               -0.063693\n",
       "Yas                -0.054711\n",
       "Calisma Saati      -2.042367\n",
       "Emeklilik gunu    120.000000\n",
       "Name: Ati, dtype: float64"
      ]
     },
     "execution_count": 121,
     "metadata": {},
     "output_type": "execute_result"
    }
   ],
   "source": [
    "yeniDataframe.loc[\"Ati\"]"
   ]
  },
  {
   "cell_type": "code",
   "execution_count": null,
   "id": "6024f992-c9e6-4f77-82da-5539e5e31510",
   "metadata": {},
   "outputs": [],
   "source": []
  },
  {
   "cell_type": "markdown",
   "id": "8ac46273-3ffa-48d0-ab0e-65a5faef1f29",
   "metadata": {},
   "source": [
    "#### MULTİ İNDEX"
   ]
  },
  {
   "cell_type": "code",
   "execution_count": 122,
   "id": "069c0fd6-2e1f-45fe-a06a-41c6a9aa4051",
   "metadata": {},
   "outputs": [],
   "source": [
    "\n",
    "ilkIndeksler = [ \"Simpson\" , \"Simpson\", \"Simpson\" , \"South Park\", \"South Park\", \"South Park\" ]\n",
    "\n",
    "icIndeksler = [\"Homer\",\"Bart\",\"Marge\",\"Cartman\",\"Kenny\", \"Kyle\" ]"
   ]
  },
  {
   "cell_type": "code",
   "execution_count": null,
   "id": "66b4914b-41f7-4625-84d3-43b86efc868f",
   "metadata": {},
   "outputs": [],
   "source": []
  },
  {
   "cell_type": "code",
   "execution_count": 123,
   "id": "e88c467a-a15b-4e2c-83d9-0736d63edaa6",
   "metadata": {},
   "outputs": [],
   "source": [
    "birlesmisIndex=list(zip(ilkIndeksler,icIndeksler))"
   ]
  },
  {
   "cell_type": "code",
   "execution_count": 124,
   "id": "ce1fc161-8f60-4da0-94be-632f472b76f0",
   "metadata": {},
   "outputs": [
    {
     "data": {
      "text/plain": [
       "[('Simpson', 'Homer'),\n",
       " ('Simpson', 'Bart'),\n",
       " ('Simpson', 'Marge'),\n",
       " ('South Park', 'Cartman'),\n",
       " ('South Park', 'Kenny'),\n",
       " ('South Park', 'Kyle')]"
      ]
     },
     "execution_count": 124,
     "metadata": {},
     "output_type": "execute_result"
    }
   ],
   "source": [
    "birlesmisIndex"
   ]
  },
  {
   "cell_type": "code",
   "execution_count": 125,
   "id": "7f727ba1-b18e-4755-8f4f-ce0475ff2ea1",
   "metadata": {},
   "outputs": [],
   "source": [
    "\n",
    "birlesmisIndex=pd.MultiIndex.from_tuples(birlesmisIndex) # çoklu index olarak ayarladık \n"
   ]
  },
  {
   "cell_type": "code",
   "execution_count": 126,
   "id": "4dfbff86-b0db-46ef-a2e3-73651c2fcfd4",
   "metadata": {},
   "outputs": [
    {
     "data": {
      "text/plain": [
       "MultiIndex([(   'Simpson',   'Homer'),\n",
       "            (   'Simpson',    'Bart'),\n",
       "            (   'Simpson',   'Marge'),\n",
       "            ('South Park', 'Cartman'),\n",
       "            ('South Park',   'Kenny'),\n",
       "            ('South Park',    'Kyle')],\n",
       "           )"
      ]
     },
     "execution_count": 126,
     "metadata": {},
     "output_type": "execute_result"
    }
   ],
   "source": [
    "birlesmisIndex"
   ]
  },
  {
   "cell_type": "code",
   "execution_count": null,
   "id": "c8b66e72-f46b-4b59-bf7d-cfb26b57464d",
   "metadata": {},
   "outputs": [],
   "source": []
  },
  {
   "cell_type": "code",
   "execution_count": 127,
   "id": "49a717d3-c9ef-4afa-be97-40c51f7ee899",
   "metadata": {},
   "outputs": [],
   "source": [
    "myCizgiFilmListem=[[60,\"A\"],[50,\"B\"],[40,\"C\"],[30,\"D\"],[20,\"E\"],[10,\"F\"]]"
   ]
  },
  {
   "cell_type": "code",
   "execution_count": 129,
   "id": "44b2f5d0-c5e7-48e2-affa-4170e471875b",
   "metadata": {},
   "outputs": [],
   "source": [
    "myCizgiFilmNumpyListem=np.array(myCizgiFilmListem)"
   ]
  },
  {
   "cell_type": "code",
   "execution_count": 136,
   "id": "d8211ae7-d020-4438-9b34-00979e2b12d0",
   "metadata": {},
   "outputs": [],
   "source": [
    "myCizgiFilmDataFrame=pd.DataFrame(myCizgiFilmNumpyListem,index=birlesmisIndex , columns=[\"yas\",\"meslek\"] )"
   ]
  },
  {
   "cell_type": "code",
   "execution_count": 137,
   "id": "6aa6e256-d37f-477b-b39f-5d6557deaf9e",
   "metadata": {},
   "outputs": [
    {
     "data": {
      "text/html": [
       "<div>\n",
       "<style scoped>\n",
       "    .dataframe tbody tr th:only-of-type {\n",
       "        vertical-align: middle;\n",
       "    }\n",
       "\n",
       "    .dataframe tbody tr th {\n",
       "        vertical-align: top;\n",
       "    }\n",
       "\n",
       "    .dataframe thead th {\n",
       "        text-align: right;\n",
       "    }\n",
       "</style>\n",
       "<table border=\"1\" class=\"dataframe\">\n",
       "  <thead>\n",
       "    <tr style=\"text-align: right;\">\n",
       "      <th></th>\n",
       "      <th></th>\n",
       "      <th>yas</th>\n",
       "      <th>meslek</th>\n",
       "    </tr>\n",
       "  </thead>\n",
       "  <tbody>\n",
       "    <tr>\n",
       "      <th rowspan=\"3\" valign=\"top\">Simpson</th>\n",
       "      <th>Homer</th>\n",
       "      <td>60</td>\n",
       "      <td>A</td>\n",
       "    </tr>\n",
       "    <tr>\n",
       "      <th>Bart</th>\n",
       "      <td>50</td>\n",
       "      <td>B</td>\n",
       "    </tr>\n",
       "    <tr>\n",
       "      <th>Marge</th>\n",
       "      <td>40</td>\n",
       "      <td>C</td>\n",
       "    </tr>\n",
       "    <tr>\n",
       "      <th rowspan=\"3\" valign=\"top\">South Park</th>\n",
       "      <th>Cartman</th>\n",
       "      <td>30</td>\n",
       "      <td>D</td>\n",
       "    </tr>\n",
       "    <tr>\n",
       "      <th>Kenny</th>\n",
       "      <td>20</td>\n",
       "      <td>E</td>\n",
       "    </tr>\n",
       "    <tr>\n",
       "      <th>Kyle</th>\n",
       "      <td>10</td>\n",
       "      <td>F</td>\n",
       "    </tr>\n",
       "  </tbody>\n",
       "</table>\n",
       "</div>"
      ],
      "text/plain": [
       "                   yas meslek\n",
       "Simpson    Homer    60      A\n",
       "           Bart     50      B\n",
       "           Marge    40      C\n",
       "South Park Cartman  30      D\n",
       "           Kenny    20      E\n",
       "           Kyle     10      F"
      ]
     },
     "execution_count": 137,
     "metadata": {},
     "output_type": "execute_result"
    }
   ],
   "source": [
    "myCizgiFilmDataFrame"
   ]
  },
  {
   "cell_type": "code",
   "execution_count": 143,
   "id": "dcbb1c6d-8400-4866-945d-b66e3c5eeeef",
   "metadata": {},
   "outputs": [
    {
     "data": {
      "text/html": [
       "<div>\n",
       "<style scoped>\n",
       "    .dataframe tbody tr th:only-of-type {\n",
       "        vertical-align: middle;\n",
       "    }\n",
       "\n",
       "    .dataframe tbody tr th {\n",
       "        vertical-align: top;\n",
       "    }\n",
       "\n",
       "    .dataframe thead th {\n",
       "        text-align: right;\n",
       "    }\n",
       "</style>\n",
       "<table border=\"1\" class=\"dataframe\">\n",
       "  <thead>\n",
       "    <tr style=\"text-align: right;\">\n",
       "      <th></th>\n",
       "      <th>yas</th>\n",
       "      <th>meslek</th>\n",
       "    </tr>\n",
       "  </thead>\n",
       "  <tbody>\n",
       "    <tr>\n",
       "      <th>Homer</th>\n",
       "      <td>60</td>\n",
       "      <td>A</td>\n",
       "    </tr>\n",
       "    <tr>\n",
       "      <th>Bart</th>\n",
       "      <td>50</td>\n",
       "      <td>B</td>\n",
       "    </tr>\n",
       "    <tr>\n",
       "      <th>Marge</th>\n",
       "      <td>40</td>\n",
       "      <td>C</td>\n",
       "    </tr>\n",
       "  </tbody>\n",
       "</table>\n",
       "</div>"
      ],
      "text/plain": [
       "      yas meslek\n",
       "Homer  60      A\n",
       "Bart   50      B\n",
       "Marge  40      C"
      ]
     },
     "execution_count": 143,
     "metadata": {},
     "output_type": "execute_result"
    }
   ],
   "source": [
    "myCizgiFilmDataFrame.loc[\"Simpson\"] #simpson  getir dedik ve o ailden olan  homer bart marge yi getirdi \n"
   ]
  },
  {
   "cell_type": "code",
   "execution_count": 144,
   "id": "990dbef5-5537-4cff-81da-ed1dd45ae2dc",
   "metadata": {},
   "outputs": [
    {
     "data": {
      "text/plain": [
       "yas       20\n",
       "meslek     E\n",
       "Name: Kenny, dtype: object"
      ]
     },
     "execution_count": 144,
     "metadata": {},
     "output_type": "execute_result"
    }
   ],
   "source": [
    "myCizgiFilmDataFrame.loc[\"South Park\"].loc[\"Kenny\"] # alt alandan veri aldık "
   ]
  },
  {
   "cell_type": "code",
   "execution_count": null,
   "id": "e4528549-c0cb-4fbd-97d7-446df3557f6d",
   "metadata": {},
   "outputs": [],
   "source": []
  },
  {
   "cell_type": "code",
   "execution_count": 149,
   "id": "d42b5db5-f666-4206-bbe0-9b2b2fce3f42",
   "metadata": {},
   "outputs": [],
   "source": [
    "myCizgiFilmDataFrame.index.names=[\"Film Adi\",\"isim\"] # kolon isimleri değiştirme "
   ]
  },
  {
   "cell_type": "code",
   "execution_count": 150,
   "id": "3c26da65-131c-4b13-809f-738fefafc2a1",
   "metadata": {},
   "outputs": [
    {
     "data": {
      "text/html": [
       "<div>\n",
       "<style scoped>\n",
       "    .dataframe tbody tr th:only-of-type {\n",
       "        vertical-align: middle;\n",
       "    }\n",
       "\n",
       "    .dataframe tbody tr th {\n",
       "        vertical-align: top;\n",
       "    }\n",
       "\n",
       "    .dataframe thead th {\n",
       "        text-align: right;\n",
       "    }\n",
       "</style>\n",
       "<table border=\"1\" class=\"dataframe\">\n",
       "  <thead>\n",
       "    <tr style=\"text-align: right;\">\n",
       "      <th></th>\n",
       "      <th></th>\n",
       "      <th>yas</th>\n",
       "      <th>meslek</th>\n",
       "    </tr>\n",
       "    <tr>\n",
       "      <th>Film Adi</th>\n",
       "      <th>isim</th>\n",
       "      <th></th>\n",
       "      <th></th>\n",
       "    </tr>\n",
       "  </thead>\n",
       "  <tbody>\n",
       "    <tr>\n",
       "      <th rowspan=\"3\" valign=\"top\">Simpson</th>\n",
       "      <th>Homer</th>\n",
       "      <td>60</td>\n",
       "      <td>A</td>\n",
       "    </tr>\n",
       "    <tr>\n",
       "      <th>Bart</th>\n",
       "      <td>50</td>\n",
       "      <td>B</td>\n",
       "    </tr>\n",
       "    <tr>\n",
       "      <th>Marge</th>\n",
       "      <td>40</td>\n",
       "      <td>C</td>\n",
       "    </tr>\n",
       "    <tr>\n",
       "      <th rowspan=\"3\" valign=\"top\">South Park</th>\n",
       "      <th>Cartman</th>\n",
       "      <td>30</td>\n",
       "      <td>D</td>\n",
       "    </tr>\n",
       "    <tr>\n",
       "      <th>Kenny</th>\n",
       "      <td>20</td>\n",
       "      <td>E</td>\n",
       "    </tr>\n",
       "    <tr>\n",
       "      <th>Kyle</th>\n",
       "      <td>10</td>\n",
       "      <td>F</td>\n",
       "    </tr>\n",
       "  </tbody>\n",
       "</table>\n",
       "</div>"
      ],
      "text/plain": [
       "                   yas meslek\n",
       "Film Adi   isim              \n",
       "Simpson    Homer    60      A\n",
       "           Bart     50      B\n",
       "           Marge    40      C\n",
       "South Park Cartman  30      D\n",
       "           Kenny    20      E\n",
       "           Kyle     10      F"
      ]
     },
     "execution_count": 150,
     "metadata": {},
     "output_type": "execute_result"
    }
   ],
   "source": [
    "myCizgiFilmDataFrame"
   ]
  },
  {
   "cell_type": "code",
   "execution_count": null,
   "id": "b8e92e35-7944-473f-8505-453cbaae7543",
   "metadata": {},
   "outputs": [],
   "source": []
  }
 ],
 "metadata": {
  "kernelspec": {
   "display_name": "Python 3 (ipykernel)",
   "language": "python",
   "name": "python3"
  },
  "language_info": {
   "codemirror_mode": {
    "name": "ipython",
    "version": 3
   },
   "file_extension": ".py",
   "mimetype": "text/x-python",
   "name": "python",
   "nbconvert_exporter": "python",
   "pygments_lexer": "ipython3",
   "version": "3.13.5"
  }
 },
 "nbformat": 4,
 "nbformat_minor": 5
}

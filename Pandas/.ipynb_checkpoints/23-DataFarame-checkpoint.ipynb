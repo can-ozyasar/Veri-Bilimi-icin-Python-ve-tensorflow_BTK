{
 "cells": [
  {
   "cell_type": "code",
   "execution_count": 1,
   "id": "c287ac3c-57ad-4981-9ef5-8e9c7baef9fa",
   "metadata": {},
   "outputs": [],
   "source": [
    "import pandas as pd"
   ]
  },
  {
   "cell_type": "code",
   "execution_count": 2,
   "id": "36793298-de17-41bd-a5c9-bacd9e4b516c",
   "metadata": {},
   "outputs": [],
   "source": [
    "import numpy as np"
   ]
  },
  {
   "cell_type": "code",
   "execution_count": null,
   "id": "1f4b7a30-acbb-4b0a-9e2c-0aefa205c975",
   "metadata": {},
   "outputs": [],
   "source": []
  },
  {
   "cell_type": "code",
   "execution_count": 6,
   "id": "30fb8ceb-36a5-47d6-a8e4-b49652867e63",
   "metadata": {},
   "outputs": [],
   "source": [
    "data=np.random.randn(4,3) #rastgele değerlerden olluşan 4*3 lük numpy matrisi"
   ]
  },
  {
   "cell_type": "code",
   "execution_count": 7,
   "id": "3c35651a-fae6-468d-bf8c-b8b1b2a667b3",
   "metadata": {},
   "outputs": [
    {
     "data": {
      "text/plain": [
       "array([[ 0.37051328,  0.33515127, -0.45759666],\n",
       "       [-0.04638143,  0.63335384, -0.33634163],\n",
       "       [ 0.45006561, -0.72388921, -1.33883921],\n",
       "       [ 0.1208966 , -0.0837397 ,  1.04304633]])"
      ]
     },
     "execution_count": 7,
     "metadata": {},
     "output_type": "execute_result"
    }
   ],
   "source": [
    "data"
   ]
  },
  {
   "cell_type": "code",
   "execution_count": null,
   "id": "8eef06f3-f67a-426e-a807-d0b20acef7f3",
   "metadata": {},
   "outputs": [],
   "source": []
  },
  {
   "cell_type": "code",
   "execution_count": 10,
   "id": "c53eec80-38b0-4847-90b3-c3ebddf14aee",
   "metadata": {},
   "outputs": [],
   "source": [
    "dataFrame=pd.DataFrame(data)"
   ]
  },
  {
   "cell_type": "code",
   "execution_count": 12,
   "id": "ca623bd6-767e-4950-8937-3e8a1747cb7e",
   "metadata": {},
   "outputs": [
    {
     "data": {
      "text/html": [
       "<div>\n",
       "<style scoped>\n",
       "    .dataframe tbody tr th:only-of-type {\n",
       "        vertical-align: middle;\n",
       "    }\n",
       "\n",
       "    .dataframe tbody tr th {\n",
       "        vertical-align: top;\n",
       "    }\n",
       "\n",
       "    .dataframe thead th {\n",
       "        text-align: right;\n",
       "    }\n",
       "</style>\n",
       "<table border=\"1\" class=\"dataframe\">\n",
       "  <thead>\n",
       "    <tr style=\"text-align: right;\">\n",
       "      <th></th>\n",
       "      <th>0</th>\n",
       "      <th>1</th>\n",
       "      <th>2</th>\n",
       "    </tr>\n",
       "  </thead>\n",
       "  <tbody>\n",
       "    <tr>\n",
       "      <th>0</th>\n",
       "      <td>0.370513</td>\n",
       "      <td>0.335151</td>\n",
       "      <td>-0.457597</td>\n",
       "    </tr>\n",
       "    <tr>\n",
       "      <th>1</th>\n",
       "      <td>-0.046381</td>\n",
       "      <td>0.633354</td>\n",
       "      <td>-0.336342</td>\n",
       "    </tr>\n",
       "    <tr>\n",
       "      <th>2</th>\n",
       "      <td>0.450066</td>\n",
       "      <td>-0.723889</td>\n",
       "      <td>-1.338839</td>\n",
       "    </tr>\n",
       "    <tr>\n",
       "      <th>3</th>\n",
       "      <td>0.120897</td>\n",
       "      <td>-0.083740</td>\n",
       "      <td>1.043046</td>\n",
       "    </tr>\n",
       "  </tbody>\n",
       "</table>\n",
       "</div>"
      ],
      "text/plain": [
       "          0         1         2\n",
       "0  0.370513  0.335151 -0.457597\n",
       "1 -0.046381  0.633354 -0.336342\n",
       "2  0.450066 -0.723889 -1.338839\n",
       "3  0.120897 -0.083740  1.043046"
      ]
     },
     "execution_count": 12,
     "metadata": {},
     "output_type": "execute_result"
    }
   ],
   "source": [
    "dataFrame"
   ]
  },
  {
   "cell_type": "code",
   "execution_count": 14,
   "id": "4d7ceaae-2c1b-45a0-953f-b4da02af2dda",
   "metadata": {},
   "outputs": [
    {
     "data": {
      "text/plain": [
       "0    0.370513\n",
       "1   -0.046381\n",
       "2    0.450066\n",
       "3    0.120897\n",
       "Name: 0, dtype: float64"
      ]
     },
     "execution_count": 14,
     "metadata": {},
     "output_type": "execute_result"
    }
   ],
   "source": [
    "dataFrame[0]  # ilk stunu aldık "
   ]
  },
  {
   "cell_type": "code",
   "execution_count": 15,
   "id": "321f3c5a-3268-4da5-ac43-14b37b71b57d",
   "metadata": {},
   "outputs": [
    {
     "data": {
      "text/plain": [
       "pandas.core.series.Series"
      ]
     },
     "execution_count": 15,
     "metadata": {},
     "output_type": "execute_result"
    }
   ],
   "source": [
    "type(dataFrame[0] )"
   ]
  },
  {
   "cell_type": "code",
   "execution_count": null,
   "id": "2f222ab4-105f-46de-bdcc-4f4cb6b9a2ca",
   "metadata": {},
   "outputs": [],
   "source": []
  },
  {
   "cell_type": "code",
   "execution_count": 19,
   "id": "a440965b-ef6d-4814-88e6-90dd45457d8a",
   "metadata": {},
   "outputs": [],
   "source": [
    "yeniDataframe=pd.DataFrame(data,index=[\"Atil\",\"Zeynep\",\"Atlas\",\"Mehmet\"],columns=[\"Maas\",\"Yas\",\"Calisma Saati\"]) #data stun satırları isimlendirdik "
   ]
  },
  {
   "cell_type": "code",
   "execution_count": 20,
   "id": "bb18b350-4f92-4f02-b4ad-dbd99e6b0a23",
   "metadata": {},
   "outputs": [
    {
     "data": {
      "text/html": [
       "<div>\n",
       "<style scoped>\n",
       "    .dataframe tbody tr th:only-of-type {\n",
       "        vertical-align: middle;\n",
       "    }\n",
       "\n",
       "    .dataframe tbody tr th {\n",
       "        vertical-align: top;\n",
       "    }\n",
       "\n",
       "    .dataframe thead th {\n",
       "        text-align: right;\n",
       "    }\n",
       "</style>\n",
       "<table border=\"1\" class=\"dataframe\">\n",
       "  <thead>\n",
       "    <tr style=\"text-align: right;\">\n",
       "      <th></th>\n",
       "      <th>Maas</th>\n",
       "      <th>Yas</th>\n",
       "      <th>Calisma Saati</th>\n",
       "    </tr>\n",
       "  </thead>\n",
       "  <tbody>\n",
       "    <tr>\n",
       "      <th>Atil</th>\n",
       "      <td>0.370513</td>\n",
       "      <td>0.335151</td>\n",
       "      <td>-0.457597</td>\n",
       "    </tr>\n",
       "    <tr>\n",
       "      <th>Zeynep</th>\n",
       "      <td>-0.046381</td>\n",
       "      <td>0.633354</td>\n",
       "      <td>-0.336342</td>\n",
       "    </tr>\n",
       "    <tr>\n",
       "      <th>Atlas</th>\n",
       "      <td>0.450066</td>\n",
       "      <td>-0.723889</td>\n",
       "      <td>-1.338839</td>\n",
       "    </tr>\n",
       "    <tr>\n",
       "      <th>Mehmet</th>\n",
       "      <td>0.120897</td>\n",
       "      <td>-0.083740</td>\n",
       "      <td>1.043046</td>\n",
       "    </tr>\n",
       "  </tbody>\n",
       "</table>\n",
       "</div>"
      ],
      "text/plain": [
       "            Maas       Yas  Calisma Saati\n",
       "Atil    0.370513  0.335151      -0.457597\n",
       "Zeynep -0.046381  0.633354      -0.336342\n",
       "Atlas   0.450066 -0.723889      -1.338839\n",
       "Mehmet  0.120897 -0.083740       1.043046"
      ]
     },
     "execution_count": 20,
     "metadata": {},
     "output_type": "execute_result"
    }
   ],
   "source": [
    "yeniDataframe"
   ]
  },
  {
   "cell_type": "markdown",
   "id": "001f0073-ef20-4833-bca0-d13f884b8919",
   "metadata": {},
   "source": [
    "### KOLON SEÇME"
   ]
  },
  {
   "cell_type": "code",
   "execution_count": 22,
   "id": "8fbdc6cc-9c1c-4da4-9369-a3e3592efd70",
   "metadata": {},
   "outputs": [
    {
     "data": {
      "text/plain": [
       "Atil     -0.457597\n",
       "Zeynep   -0.336342\n",
       "Atlas    -1.338839\n",
       "Mehmet    1.043046\n",
       "Name: Calisma Saati, dtype: float64"
      ]
     },
     "execution_count": 22,
     "metadata": {},
     "output_type": "execute_result"
    }
   ],
   "source": [
    "yeniDataframe[\"Calisma Saati\"] #istenen kolonu getirme "
   ]
  },
  {
   "cell_type": "code",
   "execution_count": 26,
   "id": "84fc5681-a8da-4d2a-bd88-ac7d45777dd3",
   "metadata": {},
   "outputs": [
    {
     "data": {
      "text/html": [
       "<div>\n",
       "<style scoped>\n",
       "    .dataframe tbody tr th:only-of-type {\n",
       "        vertical-align: middle;\n",
       "    }\n",
       "\n",
       "    .dataframe tbody tr th {\n",
       "        vertical-align: top;\n",
       "    }\n",
       "\n",
       "    .dataframe thead th {\n",
       "        text-align: right;\n",
       "    }\n",
       "</style>\n",
       "<table border=\"1\" class=\"dataframe\">\n",
       "  <thead>\n",
       "    <tr style=\"text-align: right;\">\n",
       "      <th></th>\n",
       "      <th>Maas</th>\n",
       "      <th>Yas</th>\n",
       "      <th>Calisma Saati</th>\n",
       "    </tr>\n",
       "  </thead>\n",
       "  <tbody>\n",
       "    <tr>\n",
       "      <th>Atil</th>\n",
       "      <td>0.370513</td>\n",
       "      <td>0.335151</td>\n",
       "      <td>-0.457597</td>\n",
       "    </tr>\n",
       "    <tr>\n",
       "      <th>Zeynep</th>\n",
       "      <td>-0.046381</td>\n",
       "      <td>0.633354</td>\n",
       "      <td>-0.336342</td>\n",
       "    </tr>\n",
       "    <tr>\n",
       "      <th>Atlas</th>\n",
       "      <td>0.450066</td>\n",
       "      <td>-0.723889</td>\n",
       "      <td>-1.338839</td>\n",
       "    </tr>\n",
       "    <tr>\n",
       "      <th>Mehmet</th>\n",
       "      <td>0.120897</td>\n",
       "      <td>-0.083740</td>\n",
       "      <td>1.043046</td>\n",
       "    </tr>\n",
       "  </tbody>\n",
       "</table>\n",
       "</div>"
      ],
      "text/plain": [
       "            Maas       Yas  Calisma Saati\n",
       "Atil    0.370513  0.335151      -0.457597\n",
       "Zeynep -0.046381  0.633354      -0.336342\n",
       "Atlas   0.450066 -0.723889      -1.338839\n",
       "Mehmet  0.120897 -0.083740       1.043046"
      ]
     },
     "execution_count": 26,
     "metadata": {},
     "output_type": "execute_result"
    }
   ],
   "source": [
    "yeniDataframe[[\"Maas\",\"Yas\",\"Calisma Saati\"]]"
   ]
  },
  {
   "cell_type": "markdown",
   "id": "1d4089ed-0184-483e-9096-917573344732",
   "metadata": {},
   "source": [
    "### SATIR SEÇME"
   ]
  },
  {
   "cell_type": "code",
   "execution_count": 28,
   "id": "d244d7ab-bb9d-4cf5-8449-9bc5b71a8da4",
   "metadata": {},
   "outputs": [
    {
     "data": {
      "text/plain": [
       "Maas             0.370513\n",
       "Yas              0.335151\n",
       "Calisma Saati   -0.457597\n",
       "Name: Atil, dtype: float64"
      ]
     },
     "execution_count": 28,
     "metadata": {},
     "output_type": "execute_result"
    }
   ],
   "source": [
    "yeniDataframe.loc[\"Atil\"]"
   ]
  },
  {
   "cell_type": "code",
   "execution_count": 31,
   "id": "347d24e3-2b2e-471f-a4c5-f0b75edfd7b7",
   "metadata": {},
   "outputs": [
    {
     "data": {
      "text/plain": [
       "Maas             0.450066\n",
       "Yas             -0.723889\n",
       "Calisma Saati   -1.338839\n",
       "Name: Atlas, dtype: float64"
      ]
     },
     "execution_count": 31,
     "metadata": {},
     "output_type": "execute_result"
    }
   ],
   "source": [
    "yeniDataframe.iloc[2] # index bzalı satır getirme "
   ]
  },
  {
   "cell_type": "code",
   "execution_count": null,
   "id": "202acdb6-5c49-4e4c-b2ac-435dd0235f04",
   "metadata": {},
   "outputs": [],
   "source": []
  },
  {
   "cell_type": "code",
   "execution_count": null,
   "id": "37c2ec05-05ab-4241-8348-e7b037be8ebf",
   "metadata": {},
   "outputs": [],
   "source": []
  },
  {
   "cell_type": "code",
   "execution_count": null,
   "id": "0603256a-da81-4e62-8d2a-5b6801690e18",
   "metadata": {},
   "outputs": [],
   "source": []
  },
  {
   "cell_type": "code",
   "execution_count": null,
   "id": "fa41dac3-6fe4-42cb-9914-ca44317182e1",
   "metadata": {},
   "outputs": [],
   "source": []
  },
  {
   "cell_type": "code",
   "execution_count": null,
   "id": "988dcd1c-5a9a-47de-9fd3-facc95592f10",
   "metadata": {},
   "outputs": [],
   "source": []
  },
  {
   "cell_type": "code",
   "execution_count": null,
   "id": "c9e82a32-cd9e-4907-aaec-e8e72d4b7a9c",
   "metadata": {},
   "outputs": [],
   "source": []
  },
  {
   "cell_type": "code",
   "execution_count": null,
   "id": "a711bad9-13e9-4cb7-ad2d-d6b77bfeda6f",
   "metadata": {},
   "outputs": [],
   "source": []
  },
  {
   "cell_type": "code",
   "execution_count": null,
   "id": "f723ed94-9872-4600-a546-adde829b202c",
   "metadata": {},
   "outputs": [],
   "source": []
  },
  {
   "cell_type": "code",
   "execution_count": null,
   "id": "8064e7c1-c09e-46fe-bada-e63a9bda6572",
   "metadata": {},
   "outputs": [],
   "source": []
  }
 ],
 "metadata": {
  "kernelspec": {
   "display_name": "Python 3 (ipykernel)",
   "language": "python",
   "name": "python3"
  },
  "language_info": {
   "codemirror_mode": {
    "name": "ipython",
    "version": 3
   },
   "file_extension": ".py",
   "mimetype": "text/x-python",
   "name": "python",
   "nbconvert_exporter": "python",
   "pygments_lexer": "ipython3",
   "version": "3.13.5"
  }
 },
 "nbformat": 4,
 "nbformat_minor": 5
}

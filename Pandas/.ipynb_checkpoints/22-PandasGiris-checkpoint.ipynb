{
 "cells": [
  {
   "cell_type": "code",
   "execution_count": null,
   "id": "8365d290-307b-49eb-abbe-d2dea834447e",
   "metadata": {},
   "outputs": [],
   "source": []
  },
  {
   "cell_type": "code",
   "execution_count": 2,
   "id": "8d91e4c4-6590-402a-ae03-91c6430dc650",
   "metadata": {},
   "outputs": [],
   "source": [
    "import pandas as pd\n",
    "import numpy as np"
   ]
  },
  {
   "cell_type": "markdown",
   "id": "d6ff8474-4648-4e98-88c0-22bd0ac1f115",
   "metadata": {},
   "source": [
    "## Series / Seriler"
   ]
  },
  {
   "cell_type": "code",
   "execution_count": 3,
   "id": "af166339-4968-4ee9-95e6-02825730ec61",
   "metadata": {},
   "outputs": [],
   "source": [
    "# veri biliminin exel i denir  , verilerle oynanır"
   ]
  },
  {
   "cell_type": "code",
   "execution_count": 6,
   "id": "159466e3-ed22-4c64-ac05-791a01a29ff2",
   "metadata": {},
   "outputs": [],
   "source": [
    "mySozluk={\"Can\":25, \"Ali\":47, \"Zeynep\":29}"
   ]
  },
  {
   "cell_type": "code",
   "execution_count": 7,
   "id": "ad75a74d-9a24-43c3-82c2-fd5a00eded25",
   "metadata": {},
   "outputs": [
    {
     "data": {
      "text/plain": [
       "Can       25\n",
       "Ali       47\n",
       "Zeynep    29\n",
       "dtype: int64"
      ]
     },
     "execution_count": 7,
     "metadata": {},
     "output_type": "execute_result"
    }
   ],
   "source": [
    " pd.Series(mySozluk) #seri oluşturma "
   ]
  },
  {
   "cell_type": "code",
   "execution_count": 8,
   "id": "36805af0-a8de-4da7-8210-24374ca32ba3",
   "metadata": {},
   "outputs": [
    {
     "data": {
      "text/plain": [
       "pandas.core.series.Series"
      ]
     },
     "execution_count": 8,
     "metadata": {},
     "output_type": "execute_result"
    }
   ],
   "source": [
    " type(pd.Series(mySozluk) ) #tipine bakalım pandas core series series tipinde  "
   ]
  },
  {
   "cell_type": "code",
   "execution_count": null,
   "id": "3c24bb40-4a0b-40d9-ab57-1d7a79b1bc2b",
   "metadata": {},
   "outputs": [],
   "source": []
  },
  {
   "cell_type": "code",
   "execution_count": 9,
   "id": "57268740-2226-4041-8647-9fc96a7019a6",
   "metadata": {},
   "outputs": [],
   "source": [
    "myYaslar=[25,47,29]\n",
    "myisimler=[\"Can\", \"Ali\", \"Zeynep\"]"
   ]
  },
  {
   "cell_type": "code",
   "execution_count": 11,
   "id": "6e1da932-bc2c-4cc1-af29-a6b3438e1cfb",
   "metadata": {},
   "outputs": [
    {
     "data": {
      "text/plain": [
       "0    25\n",
       "1    47\n",
       "2    29\n",
       "dtype: int64"
      ]
     },
     "execution_count": 11,
     "metadata": {},
     "output_type": "execute_result"
    }
   ],
   "source": [
    "pd.Series(myYaslar)  #indexleme ile 0 1 2 ile oluşturdu"
   ]
  },
  {
   "cell_type": "code",
   "execution_count": null,
   "id": "33347014-b087-43a6-b481-1ed0c0020a0e",
   "metadata": {},
   "outputs": [],
   "source": []
  },
  {
   "cell_type": "code",
   "execution_count": 12,
   "id": "c53ad82c-1b52-41e2-95de-b6a8e7d6cf8b",
   "metadata": {},
   "outputs": [
    {
     "data": {
      "text/plain": [
       "Can       25\n",
       "Ali       47\n",
       "Zeynep    29\n",
       "dtype: int64"
      ]
     },
     "execution_count": 12,
     "metadata": {},
     "output_type": "execute_result"
    }
   ],
   "source": [
    "pd.Series(myYaslar,myisimler) #aynı mysozluk un aynısını  serisi oluşturduk ayrı ayrı diziler ile "
   ]
  },
  {
   "cell_type": "code",
   "execution_count": null,
   "id": "b07a30b4-97ee-4582-9dfc-8d64a5c86e10",
   "metadata": {},
   "outputs": [],
   "source": []
  },
  {
   "cell_type": "code",
   "execution_count": 14,
   "id": "07df4a47-324d-481e-9bf6-7ff29575105c",
   "metadata": {},
   "outputs": [
    {
     "data": {
      "text/plain": [
       "Can       25\n",
       "Ali       47\n",
       "Zeynep    29\n",
       "dtype: int64"
      ]
     },
     "execution_count": 14,
     "metadata": {},
     "output_type": "execute_result"
    }
   ],
   "source": [
    "pd.Series(data=myYaslar,index=myisimler) #değişken isimleri ile verdik ki anlaşalılırlığı daha iyi olsun  "
   ]
  },
  {
   "cell_type": "code",
   "execution_count": null,
   "id": "203200d4-6c2f-4d3c-8a0f-e9e288fa2407",
   "metadata": {},
   "outputs": [],
   "source": []
  },
  {
   "cell_type": "code",
   "execution_count": 20,
   "id": "0c08bfef-57d1-4c76-a255-248878c36339",
   "metadata": {},
   "outputs": [],
   "source": [
    "numpyDizisiYaslar=np.array(myYaslar)"
   ]
  },
  {
   "cell_type": "code",
   "execution_count": 21,
   "id": "d0c1a132-637d-4d3c-ad8b-2198603e56af",
   "metadata": {},
   "outputs": [
    {
     "data": {
      "text/plain": [
       "array([25, 47, 29])"
      ]
     },
     "execution_count": 21,
     "metadata": {},
     "output_type": "execute_result"
    }
   ],
   "source": [
    "numpyDizisi"
   ]
  },
  {
   "cell_type": "code",
   "execution_count": 23,
   "id": "91c11532-bd77-408f-b7b4-9469fc77da1b",
   "metadata": {},
   "outputs": [],
   "source": [
    "numpyDizisisimler=np.array(myisimler)"
   ]
  },
  {
   "cell_type": "code",
   "execution_count": 25,
   "id": "5c67d114-33e8-4cdf-856b-071e3177366b",
   "metadata": {},
   "outputs": [
    {
     "data": {
      "text/plain": [
       "array(['Can', 'Ali', 'Zeynep'], dtype='<U6')"
      ]
     },
     "execution_count": 25,
     "metadata": {},
     "output_type": "execute_result"
    }
   ],
   "source": [
    "numpyDizisisimler"
   ]
  },
  {
   "cell_type": "code",
   "execution_count": 24,
   "id": "e80f932b-8d44-4939-815a-451866ab4b34",
   "metadata": {},
   "outputs": [
    {
     "data": {
      "text/plain": [
       "0    25\n",
       "1    47\n",
       "2    29\n",
       "dtype: int64"
      ]
     },
     "execution_count": 24,
     "metadata": {},
     "output_type": "execute_result"
    }
   ],
   "source": [
    "pd.Series(numpyDizisiYaslar,numpyDizisisimler)"
   ]
  }
 ],
 "metadata": {
  "kernelspec": {
   "display_name": "Python 3 (ipykernel)",
   "language": "python",
   "name": "python3"
  },
  "language_info": {
   "codemirror_mode": {
    "name": "ipython",
    "version": 3
   },
   "file_extension": ".py",
   "mimetype": "text/x-python",
   "name": "python",
   "nbconvert_exporter": "python",
   "pygments_lexer": "ipython3",
   "version": "3.13.5"
  }
 },
 "nbformat": 4,
 "nbformat_minor": 5
}

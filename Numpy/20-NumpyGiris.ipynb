{
 "cells": [
  {
   "cell_type": "code",
   "execution_count": 1,
   "id": "4a456da1-3bce-4cd5-8993-f3d95687e7f6",
   "metadata": {},
   "outputs": [],
   "source": [
    "import numpy as np\n"
   ]
  },
  {
   "cell_type": "markdown",
   "id": "c2f8d413-05e2-429c-975d-0772a35d39b6",
   "metadata": {},
   "source": [
    " ## numpy array\n"
   ]
  },
  {
   "cell_type": "code",
   "execution_count": 14,
   "id": "f37365a3-63fd-48b1-b0c4-3122f3f312cf",
   "metadata": {},
   "outputs": [],
   "source": [
    "benimListem = [20,30,40]"
   ]
  },
  {
   "cell_type": "code",
   "execution_count": 16,
   "id": "b0a973fc-38cf-4c60-acd7-626f4016af30",
   "metadata": {},
   "outputs": [
    {
     "data": {
      "text/plain": [
       "list"
      ]
     },
     "execution_count": 16,
     "metadata": {},
     "output_type": "execute_result"
    }
   ],
   "source": [
    "type( benimListem )"
   ]
  },
  {
   "cell_type": "code",
   "execution_count": 18,
   "id": "ffe1dc0a-eaf9-4435-a8cb-9430bc15d801",
   "metadata": {},
   "outputs": [
    {
     "data": {
      "text/plain": [
       "array([20, 30, 40])"
      ]
     },
     "execution_count": 18,
     "metadata": {},
     "output_type": "execute_result"
    }
   ],
   "source": [
    "np.array(benimListem) "
   ]
  },
  {
   "cell_type": "code",
   "execution_count": 26,
   "id": "3547daa6-e946-481d-a86d-30df2c9ded5d",
   "metadata": {},
   "outputs": [],
   "source": [
    "matrixListesi = [ [10,20,30],[20,30,40],[30,40,50]]"
   ]
  },
  {
   "cell_type": "code",
   "execution_count": 28,
   "id": "d6fac70c-f02c-4c27-b048-cc498c1ad00b",
   "metadata": {},
   "outputs": [
    {
     "data": {
      "text/plain": [
       "list"
      ]
     },
     "execution_count": 28,
     "metadata": {},
     "output_type": "execute_result"
    }
   ],
   "source": [
    "type(matrixListesi)"
   ]
  },
  {
   "cell_type": "code",
   "execution_count": 31,
   "id": "6c75ce25-8050-456b-a588-a283295545f3",
   "metadata": {},
   "outputs": [
    {
     "data": {
      "text/plain": [
       "array([[10, 20, 30],\n",
       "       [20, 30, 40],\n",
       "       [30, 40, 50]])"
      ]
     },
     "execution_count": 31,
     "metadata": {},
     "output_type": "execute_result"
    }
   ],
   "source": [
    "np.array(matrixListesi) # matrise çevirme komutu np.arr(dizi)"
   ]
  },
  {
   "cell_type": "markdown",
   "id": "247721cf-81dd-4f43-85ba-e9f8b799bdee",
   "metadata": {},
   "source": []
  },
  {
   "cell_type": "code",
   "execution_count": null,
   "id": "4f1f4437-b391-4aba-b50e-185cb2c7c6ea",
   "metadata": {},
   "outputs": [],
   "source": []
  },
  {
   "cell_type": "code",
   "execution_count": null,
   "id": "a03c6361-1e98-4f72-8ffe-e87eca2e8a0a",
   "metadata": {},
   "outputs": [],
   "source": []
  },
  {
   "cell_type": "code",
   "execution_count": null,
   "id": "45670fcd-e96f-45df-8174-fa80ee6a1110",
   "metadata": {},
   "outputs": [],
   "source": []
  }
 ],
 "metadata": {
  "kernelspec": {
   "display_name": "Python 3 (ipykernel)",
   "language": "python",
   "name": "python3"
  },
  "language_info": {
   "codemirror_mode": {
    "name": "ipython",
    "version": 3
   },
   "file_extension": ".py",
   "mimetype": "text/x-python",
   "name": "python",
   "nbconvert_exporter": "python",
   "pygments_lexer": "ipython3",
   "version": "3.13.5"
  }
 },
 "nbformat": 4,
 "nbformat_minor": 5
}

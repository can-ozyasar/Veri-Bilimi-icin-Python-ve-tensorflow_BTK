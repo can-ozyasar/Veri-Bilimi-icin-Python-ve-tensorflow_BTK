{
 "cells": [
  {
   "cell_type": "code",
   "execution_count": 3,
   "id": "4a456da1-3bce-4cd5-8993-f3d95687e7f6",
   "metadata": {},
   "outputs": [],
   "source": [
    "import numpy as np\n"
   ]
  },
  {
   "cell_type": "markdown",
   "id": "c2f8d413-05e2-429c-975d-0772a35d39b6",
   "metadata": {},
   "source": [
    " ## numpy array\n"
   ]
  },
  {
   "cell_type": "code",
   "execution_count": 14,
   "id": "f37365a3-63fd-48b1-b0c4-3122f3f312cf",
   "metadata": {},
   "outputs": [],
   "source": [
    "benimListem = [20,30,40]"
   ]
  },
  {
   "cell_type": "code",
   "execution_count": 16,
   "id": "b0a973fc-38cf-4c60-acd7-626f4016af30",
   "metadata": {},
   "outputs": [
    {
     "data": {
      "text/plain": [
       "list"
      ]
     },
     "execution_count": 16,
     "metadata": {},
     "output_type": "execute_result"
    }
   ],
   "source": [
    "type( benimListem )"
   ]
  },
  {
   "cell_type": "code",
   "execution_count": 18,
   "id": "ffe1dc0a-eaf9-4435-a8cb-9430bc15d801",
   "metadata": {},
   "outputs": [
    {
     "data": {
      "text/plain": [
       "array([20, 30, 40])"
      ]
     },
     "execution_count": 18,
     "metadata": {},
     "output_type": "execute_result"
    }
   ],
   "source": [
    "np.array(benimListem) "
   ]
  },
  {
   "cell_type": "code",
   "execution_count": 26,
   "id": "3547daa6-e946-481d-a86d-30df2c9ded5d",
   "metadata": {},
   "outputs": [],
   "source": [
    "matrixListesi = [ [10,20,30],[20,30,40],[30,40,50]]"
   ]
  },
  {
   "cell_type": "code",
   "execution_count": 28,
   "id": "d6fac70c-f02c-4c27-b048-cc498c1ad00b",
   "metadata": {},
   "outputs": [
    {
     "data": {
      "text/plain": [
       "list"
      ]
     },
     "execution_count": 28,
     "metadata": {},
     "output_type": "execute_result"
    }
   ],
   "source": [
    "type(matrixListesi)"
   ]
  },
  {
   "cell_type": "code",
   "execution_count": 31,
   "id": "6c75ce25-8050-456b-a588-a283295545f3",
   "metadata": {},
   "outputs": [
    {
     "data": {
      "text/plain": [
       "array([[10, 20, 30],\n",
       "       [20, 30, 40],\n",
       "       [30, 40, 50]])"
      ]
     },
     "execution_count": 31,
     "metadata": {},
     "output_type": "execute_result"
    }
   ],
   "source": [
    "np.array(matrixListesi) # matrise çevirme komutu np.arr(dizi)"
   ]
  },
  {
   "cell_type": "markdown",
   "id": "247721cf-81dd-4f43-85ba-e9f8b799bdee",
   "metadata": {},
   "source": [
    "## arange  kullanımı "
   ]
  },
  {
   "cell_type": "code",
   "execution_count": 33,
   "id": "4f1f4437-b391-4aba-b50e-185cb2c7c6ea",
   "metadata": {},
   "outputs": [
    {
     "data": {
      "text/plain": [
       "[0, 1, 2, 3, 4, 5, 6, 7, 8, 9]"
      ]
     },
     "execution_count": 33,
     "metadata": {},
     "output_type": "execute_result"
    }
   ],
   "source": [
    "list(range(0,10)) #klasik range fonksiyonu 0 10 arası sayıları oluşturur"
   ]
  },
  {
   "cell_type": "code",
   "execution_count": 35,
   "id": "a03c6361-1e98-4f72-8ffe-e87eca2e8a0a",
   "metadata": {},
   "outputs": [
    {
     "data": {
      "text/plain": [
       "array([0, 1, 2, 3, 4, 5, 6, 7, 8, 9])"
      ]
     },
     "execution_count": 35,
     "metadata": {},
     "output_type": "execute_result"
    }
   ],
   "source": [
    "np.arange(0,10)# numpy dizisi oluşturur range ile aynı matıkta farklı formatta"
   ]
  },
  {
   "cell_type": "code",
   "execution_count": 36,
   "id": "45670fcd-e96f-45df-8174-fa80ee6a1110",
   "metadata": {},
   "outputs": [
    {
     "data": {
      "text/plain": [
       "array([0, 2, 4, 6, 8])"
      ]
     },
     "execution_count": 36,
     "metadata": {},
     "output_type": "execute_result"
    }
   ],
   "source": [
    "np.arange(0,10,2) # atlayarak yazdırıyor "
   ]
  },
  {
   "cell_type": "markdown",
   "id": "98dac9d1-2f1f-44d9-ad31-a0a480aa1139",
   "metadata": {},
   "source": [
    "## zeros 0 matrisi  --- ones 1 matrisi"
   ]
  },
  {
   "cell_type": "code",
   "execution_count": 38,
   "id": "462af223-252a-45b5-8a41-4c85d957ad72",
   "metadata": {},
   "outputs": [
    {
     "data": {
      "text/plain": [
       "array([0., 0., 0., 0., 0.])"
      ]
     },
     "execution_count": 38,
     "metadata": {},
     "output_type": "execute_result"
    }
   ],
   "source": [
    "np.zeros(5)"
   ]
  },
  {
   "cell_type": "code",
   "execution_count": 39,
   "id": "95eec39f-531d-4afc-bba3-1a8ba64a763f",
   "metadata": {},
   "outputs": [
    {
     "data": {
      "text/plain": [
       "array([[0., 0.],\n",
       "       [0., 0.]])"
      ]
     },
     "execution_count": 39,
     "metadata": {},
     "output_type": "execute_result"
    }
   ],
   "source": [
    "np.zeros((2,2))  # istenen ölçülerde matris olarak oluşturdu "
   ]
  },
  {
   "cell_type": "code",
   "execution_count": null,
   "id": "e31a34bd-20ad-4f02-b420-ecce406fbff8",
   "metadata": {},
   "outputs": [],
   "source": []
  },
  {
   "cell_type": "code",
   "execution_count": 40,
   "id": "8ac6f449-eba3-4693-bb57-bd0e954184cc",
   "metadata": {},
   "outputs": [
    {
     "data": {
      "text/plain": [
       "array([1., 1., 1., 1., 1.])"
      ]
     },
     "execution_count": 40,
     "metadata": {},
     "output_type": "execute_result"
    }
   ],
   "source": [
    "np.ones(5)"
   ]
  },
  {
   "cell_type": "code",
   "execution_count": 41,
   "id": "fdb6ba96-1556-440e-8e74-e2e3cb0bc07d",
   "metadata": {},
   "outputs": [
    {
     "data": {
      "text/plain": [
       "array([[1., 1.],\n",
       "       [1., 1.]])"
      ]
     },
     "execution_count": 41,
     "metadata": {},
     "output_type": "execute_result"
    }
   ],
   "source": [
    "np.ones((2,2))"
   ]
  },
  {
   "cell_type": "code",
   "execution_count": null,
   "id": "7aa702c1-655d-4a90-b632-f298d3414033",
   "metadata": {},
   "outputs": [],
   "source": []
  },
  {
   "cell_type": "markdown",
   "id": "9332ac2c-ff23-443e-9187-5059a49d346f",
   "metadata": {},
   "source": [
    "### linspace istenen aralıkta ve istenen veri adedinde eşit aralıkta sayılar oluşturma "
   ]
  },
  {
   "cell_type": "code",
   "execution_count": 42,
   "id": "a51e0d1b-c211-4abd-bb96-32a12ffe0a89",
   "metadata": {},
   "outputs": [
    {
     "data": {
      "text/plain": [
       "array([ 0.,  5., 10., 15., 20.])"
      ]
     },
     "execution_count": 42,
     "metadata": {},
     "output_type": "execute_result"
    }
   ],
   "source": [
    "np.linspace(0,20,5)"
   ]
  },
  {
   "cell_type": "code",
   "execution_count": 43,
   "id": "b165b032-402c-4bf8-bbd1-eec2a6497504",
   "metadata": {},
   "outputs": [
    {
     "data": {
      "text/plain": [
       "array([ 0.        ,  0.52631579,  1.05263158,  1.57894737,  2.10526316,\n",
       "        2.63157895,  3.15789474,  3.68421053,  4.21052632,  4.73684211,\n",
       "        5.26315789,  5.78947368,  6.31578947,  6.84210526,  7.36842105,\n",
       "        7.89473684,  8.42105263,  8.94736842,  9.47368421, 10.        ])"
      ]
     },
     "execution_count": 43,
     "metadata": {},
     "output_type": "execute_result"
    }
   ],
   "source": [
    "np.linspace(0,10,20)#0 ile 10 arasında 20 tane veri olsun aralıkları eşit olsun "
   ]
  },
  {
   "cell_type": "code",
   "execution_count": null,
   "id": "a2e33c38-6892-4516-9bc6-27654f83f625",
   "metadata": {},
   "outputs": [],
   "source": []
  },
  {
   "cell_type": "code",
   "execution_count": null,
   "id": "a5ca06b7-1c0a-4d92-89db-6e97ae7242cb",
   "metadata": {},
   "outputs": [],
   "source": []
  },
  {
   "cell_type": "markdown",
   "id": "855f4c10-5a75-4bd4-b516-c2827c966b54",
   "metadata": {},
   "source": [
    "## eye simetrik matris oluşturur"
   ]
  },
  {
   "cell_type": "code",
   "execution_count": 46,
   "id": "11f59154-e9b4-4157-89f6-e3ea163c7b95",
   "metadata": {},
   "outputs": [
    {
     "data": {
      "text/plain": [
       "array([[1., 0., 0., 0., 0., 0.],\n",
       "       [0., 1., 0., 0., 0., 0.],\n",
       "       [0., 0., 1., 0., 0., 0.],\n",
       "       [0., 0., 0., 1., 0., 0.],\n",
       "       [0., 0., 0., 0., 1., 0.],\n",
       "       [0., 0., 0., 0., 0., 1.]])"
      ]
     },
     "execution_count": 46,
     "metadata": {},
     "output_type": "execute_result"
    }
   ],
   "source": [
    "np.eye(6) #köşegenler 1 geri kalanlar 0"
   ]
  },
  {
   "cell_type": "code",
   "execution_count": null,
   "id": "2da0e95a-27ba-4546-83dc-0dcfb0c29737",
   "metadata": {},
   "outputs": [],
   "source": []
  },
  {
   "cell_type": "markdown",
   "id": "46e6f799-85d5-4948-99ca-71ed61fa8f9c",
   "metadata": {},
   "source": [
    "## random "
   ]
  },
  {
   "cell_type": "code",
   "execution_count": null,
   "id": "92c202ac-1cb2-482b-b199-2f3acc4eea08",
   "metadata": {},
   "outputs": [],
   "source": []
  },
  {
   "cell_type": "code",
   "execution_count": 5,
   "id": "1b8915fe-d872-4fd6-9857-75c77859bea9",
   "metadata": {},
   "outputs": [
    {
     "data": {
      "text/plain": [
       "array([ 0.64152139, -0.6863867 ,  0.55262696, -0.16678657,  0.82609205])"
      ]
     },
     "execution_count": 5,
     "metadata": {},
     "output_type": "execute_result"
    }
   ],
   "source": [
    "np.random.randn(5) #rastgele değerler üretir nnumpy dizisi üretir"
   ]
  },
  {
   "cell_type": "code",
   "execution_count": 6,
   "id": "7c3c1d40-9e6e-47f9-aa14-d2d432eae81e",
   "metadata": {},
   "outputs": [
    {
     "data": {
      "text/plain": [
       "array([[-0.7081322 ,  0.01911251,  0.64829142],\n",
       "       [ 0.38595039,  0.89527559, -0.97034512],\n",
       "       [-0.16044967, -1.63861499,  0.40549545]])"
      ]
     },
     "execution_count": 6,
     "metadata": {},
     "output_type": "execute_result"
    }
   ],
   "source": [
    "np.random.randn(3,3)"
   ]
  },
  {
   "cell_type": "code",
   "execution_count": 9,
   "id": "9e1435af-7a09-41b2-9ce0-a57b2b2b3d45",
   "metadata": {},
   "outputs": [
    {
     "data": {
      "text/plain": [
       "5"
      ]
     },
     "execution_count": 9,
     "metadata": {},
     "output_type": "execute_result"
    }
   ],
   "source": [
    "\n",
    "np.random.randint(1,10) # 1 10 arası bir değer döndürür son değeri alamaz (10) ilk değeri alabilir"
   ]
  },
  {
   "cell_type": "code",
   "execution_count": 11,
   "id": "79ac1d9a-8d2b-41b8-9f33-a837931aba5d",
   "metadata": {},
   "outputs": [
    {
     "data": {
      "text/plain": [
       "array([44, 49, 27, 70, 49], dtype=int32)"
      ]
     },
     "execution_count": 11,
     "metadata": {},
     "output_type": "execute_result"
    }
   ],
   "source": [
    "np.random.randint(1,100,5) # 1 100 arası 5 tane değer üret "
   ]
  },
  {
   "cell_type": "code",
   "execution_count": null,
   "id": "c0477288-ca59-40b8-9ae0-95ff23f3790a",
   "metadata": {},
   "outputs": [],
   "source": []
  },
  {
   "cell_type": "code",
   "execution_count": 17,
   "id": "b1ded646-b220-46cc-9612-a00a776bf0b0",
   "metadata": {},
   "outputs": [],
   "source": [
    "numpyDizim=np.arange(30) #bir değere eşitleme"
   ]
  },
  {
   "cell_type": "code",
   "execution_count": 18,
   "id": "fbcaf469-351c-4f34-a215-2d877e685369",
   "metadata": {},
   "outputs": [
    {
     "data": {
      "text/plain": [
       "array([ 0,  1,  2,  3,  4,  5,  6,  7,  8,  9, 10, 11, 12, 13, 14, 15, 16,\n",
       "       17, 18, 19, 20, 21, 22, 23, 24, 25, 26, 27, 28, 29])"
      ]
     },
     "execution_count": 18,
     "metadata": {},
     "output_type": "execute_result"
    }
   ],
   "source": [
    "numpyDizim"
   ]
  },
  {
   "cell_type": "code",
   "execution_count": null,
   "id": "4dac4b96-790f-4c92-9609-234f39005d09",
   "metadata": {},
   "outputs": [],
   "source": []
  },
  {
   "cell_type": "code",
   "execution_count": 19,
   "id": "4e1c88e3-ddc4-45ce-9238-e1dc121abe30",
   "metadata": {},
   "outputs": [],
   "source": [
    "benimRandomDizim= np.random.randint(0,40,5) #değere eşitleme"
   ]
  },
  {
   "cell_type": "code",
   "execution_count": 20,
   "id": "8be92975-feeb-4ce8-8868-79979b799fa1",
   "metadata": {},
   "outputs": [
    {
     "data": {
      "text/plain": [
       "array([ 5,  5, 22, 39, 29], dtype=int32)"
      ]
     },
     "execution_count": 20,
     "metadata": {},
     "output_type": "execute_result"
    }
   ],
   "source": [
    "benimRandomDizim"
   ]
  },
  {
   "cell_type": "code",
   "execution_count": null,
   "id": "f09c8ea5-3c1a-4a32-8787-b84005f47c01",
   "metadata": {},
   "outputs": [],
   "source": []
  }
 ],
 "metadata": {
  "kernelspec": {
   "display_name": "Python 3 (ipykernel)",
   "language": "python",
   "name": "python3"
  },
  "language_info": {
   "codemirror_mode": {
    "name": "ipython",
    "version": 3
   },
   "file_extension": ".py",
   "mimetype": "text/x-python",
   "name": "python",
   "nbconvert_exporter": "python",
   "pygments_lexer": "ipython3",
   "version": "3.13.5"
  }
 },
 "nbformat": 4,
 "nbformat_minor": 5
}

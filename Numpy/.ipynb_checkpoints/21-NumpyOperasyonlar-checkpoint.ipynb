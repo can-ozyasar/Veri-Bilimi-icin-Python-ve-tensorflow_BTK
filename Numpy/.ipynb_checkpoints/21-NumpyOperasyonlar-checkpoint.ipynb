{
 "cells": [
  {
   "cell_type": "code",
   "execution_count": 5,
   "id": "4af6535e-af88-4db8-88b9-4e56e8ba6ae7",
   "metadata": {},
   "outputs": [],
   "source": [
    "import numpy as np"
   ]
  },
  {
   "cell_type": "code",
   "execution_count": 6,
   "id": "3bc9015e-3a38-4470-b1d4-4f166f251c56",
   "metadata": {},
   "outputs": [],
   "source": [
    "benimDizim=np.arange(0,15)"
   ]
  },
  {
   "cell_type": "code",
   "execution_count": 7,
   "id": "aab1eb0d-b8a8-4b45-ba72-a7bee52443a6",
   "metadata": {},
   "outputs": [
    {
     "data": {
      "text/plain": [
       "array([ 0,  1,  2,  3,  4,  5,  6,  7,  8,  9, 10, 11, 12, 13, 14])"
      ]
     },
     "execution_count": 7,
     "metadata": {},
     "output_type": "execute_result"
    }
   ],
   "source": [
    "benimDizim"
   ]
  },
  {
   "cell_type": "code",
   "execution_count": null,
   "id": "414dd1aa-72f1-466a-ac61-bcf9c0a21fdb",
   "metadata": {},
   "outputs": [],
   "source": []
  },
  {
   "cell_type": "code",
   "execution_count": 8,
   "id": "08f945a2-2e7e-4b3a-9d0a-2da68d539bbe",
   "metadata": {},
   "outputs": [
    {
     "data": {
      "text/plain": [
       "np.int64(2)"
      ]
     },
     "execution_count": 8,
     "metadata": {},
     "output_type": "execute_result"
    }
   ],
   "source": [
    "benimDizim[2] #istenen indexe erişme "
   ]
  },
  {
   "cell_type": "code",
   "execution_count": null,
   "id": "c42638ad-c836-42f9-a0df-25163d480b3b",
   "metadata": {},
   "outputs": [],
   "source": []
  },
  {
   "cell_type": "code",
   "execution_count": 9,
   "id": "a0714f77-e955-4b8a-baba-85072fb3bdd6",
   "metadata": {},
   "outputs": [
    {
     "data": {
      "text/plain": [
       "array([3, 4])"
      ]
     },
     "execution_count": 9,
     "metadata": {},
     "output_type": "execute_result"
    }
   ],
   "source": [
    "benimDizim[3:5] # 3.indisten 5. indise kadar 5.indis dahil değil"
   ]
  },
  {
   "cell_type": "code",
   "execution_count": null,
   "id": "c1b03391-058d-4e33-91d4-59757aee5502",
   "metadata": {},
   "outputs": [],
   "source": []
  },
  {
   "cell_type": "code",
   "execution_count": 10,
   "id": "89d0e0fc-cfa2-42ea-8c73-42fe37f4e84a",
   "metadata": {},
   "outputs": [],
   "source": [
    "benimDizim[3:5]=-2 #istenen aralığın değerini değiştirme "
   ]
  },
  {
   "cell_type": "code",
   "execution_count": 11,
   "id": "41f87163-19ba-4cd7-8f75-557f11778c39",
   "metadata": {},
   "outputs": [
    {
     "data": {
      "text/plain": [
       "array([ 0,  1,  2, -2, -2,  5,  6,  7,  8,  9, 10, 11, 12, 13, 14])"
      ]
     },
     "execution_count": 11,
     "metadata": {},
     "output_type": "execute_result"
    }
   ],
   "source": [
    "benimDizim   # değrler değişti "
   ]
  },
  {
   "cell_type": "code",
   "execution_count": null,
   "id": "b138f53a-8402-417c-b0e1-8afe5d6028a8",
   "metadata": {},
   "outputs": [],
   "source": []
  },
  {
   "cell_type": "code",
   "execution_count": null,
   "id": "2ea71cee-7e9b-47a0-a36a-0074128dfcae",
   "metadata": {},
   "outputs": [],
   "source": []
  },
  {
   "cell_type": "code",
   "execution_count": 13,
   "id": "931c1c77-50aa-4ed7-a972-f9d344f4a2cd",
   "metadata": {},
   "outputs": [],
   "source": [
    "baskadizi=np.arange(0,24)"
   ]
  },
  {
   "cell_type": "code",
   "execution_count": 14,
   "id": "9bacedde-e368-43ec-853d-0b344681327d",
   "metadata": {},
   "outputs": [
    {
     "data": {
      "text/plain": [
       "array([ 0,  1,  2,  3,  4,  5,  6,  7,  8,  9, 10, 11, 12, 13, 14, 15, 16,\n",
       "       17, 18, 19, 20, 21, 22, 23])"
      ]
     },
     "execution_count": 14,
     "metadata": {},
     "output_type": "execute_result"
    }
   ],
   "source": [
    "baskadizi"
   ]
  },
  {
   "cell_type": "code",
   "execution_count": null,
   "id": "707f872e-1606-450e-ae64-356f840f5917",
   "metadata": {},
   "outputs": [],
   "source": []
  },
  {
   "cell_type": "code",
   "execution_count": 15,
   "id": "9151cba6-7789-4e7b-8cbf-4a809ec74e61",
   "metadata": {},
   "outputs": [],
   "source": [
    "bolunmusDizi=baskadizi[1:8] "
   ]
  },
  {
   "cell_type": "code",
   "execution_count": 16,
   "id": "4dadc821-8d41-4f31-bf76-e24ae246ffb2",
   "metadata": {},
   "outputs": [
    {
     "data": {
      "text/plain": [
       "array([1, 2, 3, 4, 5, 6, 7])"
      ]
     },
     "execution_count": 16,
     "metadata": {},
     "output_type": "execute_result"
    }
   ],
   "source": [
    "bolunmusDizi"
   ]
  },
  {
   "cell_type": "code",
   "execution_count": null,
   "id": "bb21ad8b-a622-423e-9235-8d5ee22ae598",
   "metadata": {},
   "outputs": [],
   "source": []
  },
  {
   "cell_type": "code",
   "execution_count": 18,
   "id": "e258d93e-11b9-4a6b-8137-4b48b6204edf",
   "metadata": {},
   "outputs": [
    {
     "data": {
      "text/plain": [
       "numpy.ndarray"
      ]
     },
     "execution_count": 18,
     "metadata": {},
     "output_type": "execute_result"
    }
   ],
   "source": [
    "type(bolunmusDizi)"
   ]
  },
  {
   "cell_type": "code",
   "execution_count": null,
   "id": "ff7966e1-882a-441d-9fc2-d0c0fc300859",
   "metadata": {},
   "outputs": [],
   "source": []
  },
  {
   "cell_type": "code",
   "execution_count": 20,
   "id": "d9f9fef8-0732-49a8-9a33-10eee6098b6f",
   "metadata": {},
   "outputs": [],
   "source": [
    "bolunmusDizi[:]=700 #tüm elemanları 700 e eşitleme numpy array olarak "
   ]
  },
  {
   "cell_type": "code",
   "execution_count": 22,
   "id": "38f8be5d-0ab2-46ae-9567-9e0b5d3fe9b2",
   "metadata": {},
   "outputs": [
    {
     "data": {
      "text/plain": [
       "array([700, 700, 700, 700, 700, 700, 700])"
      ]
     },
     "execution_count": 22,
     "metadata": {},
     "output_type": "execute_result"
    }
   ],
   "source": [
    "bolunmusDizi"
   ]
  },
  {
   "cell_type": "code",
   "execution_count": null,
   "id": "97ee24f4-2be5-4e09-8034-a857e6923f50",
   "metadata": {},
   "outputs": [],
   "source": []
  },
  {
   "cell_type": "code",
   "execution_count": null,
   "id": "d8173f7e-22b7-423f-a08c-1fbd2a93e259",
   "metadata": {},
   "outputs": [],
   "source": []
  },
  {
   "cell_type": "code",
   "execution_count": 25,
   "id": "27f986d6-1de4-4396-94a8-e10020606797",
   "metadata": {},
   "outputs": [
    {
     "data": {
      "text/plain": [
       "array([  0, 700, 700, 700, 700, 700, 700, 700,   8,   9,  10,  11,  12,\n",
       "        13,  14,  15,  16,  17,  18,  19,  20,  21,  22,  23])"
      ]
     },
     "execution_count": 25,
     "metadata": {},
     "output_type": "execute_result"
    }
   ],
   "source": [
    "baskadizi  # İLK BASTAKİ BASKA DİZİDEN BÖLEREK OLUŞTURMUŞTUK BOLUNMUS DİZİ Yİ\n",
    "#  BASKA DİZİ DE  BU SIRADA DEĞİŞMİŞ "
   ]
  },
  {
   "cell_type": "code",
   "execution_count": null,
   "id": "f802166f-fca0-4313-bfd4-7bd38c94aeeb",
   "metadata": {},
   "outputs": [],
   "source": []
  },
  {
   "cell_type": "markdown",
   "id": "f4cdc3fa-da64-4460-a448-1dc0a6af495d",
   "metadata": {},
   "source": [
    "##### BAŞTAKİ DİZİ ETKİLENMEMESİNİN YÖNTEMİ "
   ]
  },
  {
   "cell_type": "code",
   "execution_count": null,
   "id": "a521a0af-764d-4845-b2ab-54b8e56c1a55",
   "metadata": {},
   "outputs": [],
   "source": []
  },
  {
   "cell_type": "code",
   "execution_count": 26,
   "id": "1f259045-6d33-4b18-952e-56235340061c",
   "metadata": {},
   "outputs": [],
   "source": [
    "ornekDizi=np.arange(0,24) #üstteki baska dizi gibi bir dizi oluşturduk "
   ]
  },
  {
   "cell_type": "code",
   "execution_count": 27,
   "id": "dae16f78-d975-4603-bb53-f21a35fad0af",
   "metadata": {},
   "outputs": [
    {
     "data": {
      "text/plain": [
       "array([ 0,  1,  2,  3,  4,  5,  6,  7,  8,  9, 10, 11, 12, 13, 14, 15, 16,\n",
       "       17, 18, 19, 20, 21, 22, 23])"
      ]
     },
     "execution_count": 27,
     "metadata": {},
     "output_type": "execute_result"
    }
   ],
   "source": [
    "ornekDizi"
   ]
  },
  {
   "cell_type": "code",
   "execution_count": null,
   "id": "b32da33d-e083-4566-bfb6-53cdf75fc4e3",
   "metadata": {},
   "outputs": [],
   "source": []
  },
  {
   "cell_type": "code",
   "execution_count": 28,
   "id": "4eb14479-522e-4d63-b21f-613777434f49",
   "metadata": {},
   "outputs": [],
   "source": [
    "    ornekDiziKopyasi=ornekDizi.copy() #kopyasını oluşturduk \"copy\" ile ---  etkilenmemesi için"
   ]
  },
  {
   "cell_type": "code",
   "execution_count": null,
   "id": "4e15ef77-ff65-4da0-b65d-219006616bb7",
   "metadata": {},
   "outputs": [],
   "source": [
    "\n"
   ]
  },
  {
   "cell_type": "code",
   "execution_count": null,
   "id": "848d288a-2b5a-4ad5-9ebf-172b2e50f2af",
   "metadata": {},
   "outputs": [],
   "source": [
    "#iki ayrı dizi oldular "
   ]
  },
  {
   "cell_type": "code",
   "execution_count": 29,
   "id": "7f85c9b1-5331-457f-815a-887f577a745e",
   "metadata": {},
   "outputs": [
    {
     "data": {
      "text/plain": [
       "array([ 0,  1,  2,  3,  4,  5,  6,  7,  8,  9, 10, 11, 12, 13, 14, 15, 16,\n",
       "       17, 18, 19, 20, 21, 22, 23])"
      ]
     },
     "execution_count": 29,
     "metadata": {},
     "output_type": "execute_result"
    }
   ],
   "source": [
    "ornekDizi"
   ]
  },
  {
   "cell_type": "code",
   "execution_count": 30,
   "id": "ff7758b4-e99e-4ac4-a097-f9c50dbd0bb5",
   "metadata": {},
   "outputs": [
    {
     "data": {
      "text/plain": [
       "array([ 0,  1,  2,  3,  4,  5,  6,  7,  8,  9, 10, 11, 12, 13, 14, 15, 16,\n",
       "       17, 18, 19, 20, 21, 22, 23])"
      ]
     },
     "execution_count": 30,
     "metadata": {},
     "output_type": "execute_result"
    }
   ],
   "source": [
    "ornekDiziKopyasi"
   ]
  },
  {
   "cell_type": "code",
   "execution_count": null,
   "id": "9da0712a-dac7-4099-bb86-e67815e283c6",
   "metadata": {},
   "outputs": [],
   "source": []
  },
  {
   "cell_type": "code",
   "execution_count": 43,
   "id": "26b26642-e9a6-454b-8fb4-167b57e46350",
   "metadata": {},
   "outputs": [],
   "source": [
    "ornekDiziKopyalaBolunmus=ornekDiziKopyasi[3:6] #diziyi böldük"
   ]
  },
  {
   "cell_type": "code",
   "execution_count": 44,
   "id": "416a218b-653c-4b05-8b2d-61dda19c2d3c",
   "metadata": {},
   "outputs": [],
   "source": [
    "ornekDiziKopyalaBolunmus[:]=700"
   ]
  },
  {
   "cell_type": "code",
   "execution_count": null,
   "id": "84208cd8-2394-46e1-aa8b-3219ae5df8ea",
   "metadata": {},
   "outputs": [],
   "source": []
  },
  {
   "cell_type": "code",
   "execution_count": 45,
   "id": "5f793c3d-ec2a-4ae0-8001-184ed76b6b6e",
   "metadata": {},
   "outputs": [],
   "source": [
    "#bakalım değişmiş mi "
   ]
  },
  {
   "cell_type": "code",
   "execution_count": 46,
   "id": "62858e3d-9efe-4243-9758-15ef7b49027f",
   "metadata": {},
   "outputs": [
    {
     "data": {
      "text/plain": [
       "array([700, 700, 700])"
      ]
     },
     "execution_count": 46,
     "metadata": {},
     "output_type": "execute_result"
    }
   ],
   "source": [
    "ornekDiziKopyalaBolunmus"
   ]
  },
  {
   "cell_type": "code",
   "execution_count": null,
   "id": "f950c9d0-8c7a-4286-a7d0-2224e32d8e7a",
   "metadata": {},
   "outputs": [],
   "source": []
  },
  {
   "cell_type": "code",
   "execution_count": 47,
   "id": "5f2cf869-5b39-4355-a655-d73910703616",
   "metadata": {},
   "outputs": [
    {
     "data": {
      "text/plain": [
       "array([  0,   1,   2, 700, 700, 700,   6,   7,   8,   9,  10,  11,  12,\n",
       "        13,  14,  15,  16,  17,  18,  19,  20,  21,  22,  23])"
      ]
     },
     "execution_count": 47,
     "metadata": {},
     "output_type": "execute_result"
    }
   ],
   "source": [
    "ornekDiziKopyasi"
   ]
  },
  {
   "cell_type": "code",
   "execution_count": null,
   "id": "f2763c1d-0f80-4b87-afb6-5dd3cf163717",
   "metadata": {},
   "outputs": [],
   "source": []
  },
  {
   "cell_type": "code",
   "execution_count": 49,
   "id": "41e8262d-222d-49df-a3db-d17122b8ae02",
   "metadata": {},
   "outputs": [
    {
     "data": {
      "text/plain": [
       "array([ 0,  1,  2,  3,  4,  5,  6,  7,  8,  9, 10, 11, 12, 13, 14, 15, 16,\n",
       "       17, 18, 19, 20, 21, 22, 23])"
      ]
     },
     "execution_count": 49,
     "metadata": {},
     "output_type": "execute_result"
    }
   ],
   "source": [
    "ornekDizi ### orjinal ilk dizi değişmedi"
   ]
  },
  {
   "cell_type": "code",
   "execution_count": null,
   "id": "0802a7b6-ccf3-4cb1-9df6-153f8e1dd635",
   "metadata": {},
   "outputs": [],
   "source": []
  },
  {
   "cell_type": "code",
   "execution_count": null,
   "id": "25c1ecdf-5e52-4ebb-bfbf-1b174e859879",
   "metadata": {},
   "outputs": [],
   "source": []
  },
  {
   "cell_type": "code",
   "execution_count": null,
   "id": "8b17b9fa-04a9-47a7-a186-a33eb9a310fa",
   "metadata": {},
   "outputs": [],
   "source": []
  },
  {
   "cell_type": "markdown",
   "id": "85be7706-1789-4378-8619-d1a411b7d334",
   "metadata": {},
   "source": [
    "### Matrix"
   ]
  },
  {
   "cell_type": "code",
   "execution_count": null,
   "id": "ac905bc5-688f-44c9-b90d-c1674b97637e",
   "metadata": {},
   "outputs": [],
   "source": []
  },
  {
   "cell_type": "code",
   "execution_count": 50,
   "id": "fd389df5-1da5-4f36-bc27-59a1ddba9799",
   "metadata": {},
   "outputs": [],
   "source": [
    "benimListem=[[10,20,30,],[20,30,40],[40,50,60]] #klasik dizi"
   ]
  },
  {
   "cell_type": "code",
   "execution_count": 51,
   "id": "d10e6067-2441-4102-97a6-70a81a82ed08",
   "metadata": {},
   "outputs": [],
   "source": [
    "benimMatrixDizim= np.array(benimListem) # numpy arr a çevirme "
   ]
  },
  {
   "cell_type": "code",
   "execution_count": 52,
   "id": "f394afb7-dc69-4122-9040-6703c8f90ef8",
   "metadata": {},
   "outputs": [
    {
     "data": {
      "text/plain": [
       "array([[10, 20, 30],\n",
       "       [20, 30, 40],\n",
       "       [40, 50, 60]])"
      ]
     },
     "execution_count": 52,
     "metadata": {},
     "output_type": "execute_result"
    }
   ],
   "source": [
    "benimMatrixDizim"
   ]
  },
  {
   "cell_type": "code",
   "execution_count": null,
   "id": "5ed781c5-8103-4b09-aa25-30b6354b0ab3",
   "metadata": {},
   "outputs": [],
   "source": []
  },
  {
   "cell_type": "code",
   "execution_count": 53,
   "id": "ad2aa3a4-1367-4b9c-a3b7-bb9d81890c33",
   "metadata": {},
   "outputs": [
    {
     "data": {
      "text/plain": [
       "array([10, 20, 30])"
      ]
     },
     "execution_count": 53,
     "metadata": {},
     "output_type": "execute_result"
    }
   ],
   "source": [
    "benimMatrixDizim[0] #ilk satır "
   ]
  },
  {
   "cell_type": "code",
   "execution_count": null,
   "id": "bb8c9aeb-8e34-40cb-8dee-e206a8a79051",
   "metadata": {},
   "outputs": [],
   "source": []
  },
  {
   "cell_type": "code",
   "execution_count": 55,
   "id": "b93927dd-9f3c-4f21-8a95-d4d93a24a960",
   "metadata": {},
   "outputs": [
    {
     "data": {
      "text/plain": [
       "np.int64(30)"
      ]
     },
     "execution_count": 55,
     "metadata": {},
     "output_type": "execute_result"
    }
   ],
   "source": [
    "benimMatrixDizim[1][1]"
   ]
  },
  {
   "cell_type": "code",
   "execution_count": 56,
   "id": "7e606216-9d13-4afe-a973-e0a61bfd7444",
   "metadata": {},
   "outputs": [
    {
     "data": {
      "text/plain": [
       "np.int64(30)"
      ]
     },
     "execution_count": 56,
     "metadata": {},
     "output_type": "execute_result"
    }
   ],
   "source": [
    "benimMatrixDizim[1,1] # üstteki ile aynı yeri belirtir 1. index satır 1.index stun"
   ]
  },
  {
   "cell_type": "code",
   "execution_count": null,
   "id": "6f333c9d-20fc-4b41-80d4-93bdad6dbe0f",
   "metadata": {},
   "outputs": [],
   "source": []
  },
  {
   "cell_type": "code",
   "execution_count": 60,
   "id": "63801936-3066-4578-a4a9-18131b0581ca",
   "metadata": {},
   "outputs": [
    {
     "data": {
      "text/plain": [
       "array([40, 60])"
      ]
     },
     "execution_count": 60,
     "metadata": {},
     "output_type": "execute_result"
    }
   ],
   "source": [
    "benimMatrixDizim[1:,2] # 1. index satırdan başla  her  satırın 2. index stunundaki değeri yaz "
   ]
  },
  {
   "cell_type": "code",
   "execution_count": 62,
   "id": "a211d454-96bb-47b3-b8eb-98058a7372d5",
   "metadata": {},
   "outputs": [
    {
     "data": {
      "text/plain": [
       "array([20, 30, 50])"
      ]
     },
     "execution_count": 62,
     "metadata": {},
     "output_type": "execute_result"
    }
   ],
   "source": [
    "benimMatrixDizim[0:,1] # 0. index satırdan başla  her  satırın 1. index stunundaki değeri yaz "
   ]
  },
  {
   "cell_type": "code",
   "execution_count": null,
   "id": "b5e601fb-6a38-4dd6-b400-961f60ab1af2",
   "metadata": {},
   "outputs": [],
   "source": []
  },
  {
   "cell_type": "code",
   "execution_count": 64,
   "id": "1b736a5f-539d-47ef-9952-5cad09b1c4c9",
   "metadata": {},
   "outputs": [
    {
     "data": {
      "text/plain": [
       "array([[20, 30],\n",
       "       [30, 40],\n",
       "       [50, 60]])"
      ]
     },
     "execution_count": 64,
     "metadata": {},
     "output_type": "execute_result"
    }
   ],
   "source": [
    "benimMatrixDizim[0:,1:] # 0. index satırdan başla  her  satırın 1. index stunundaki değerden sonrasını yaz "
   ]
  },
  {
   "cell_type": "code",
   "execution_count": null,
   "id": "bf1fd8df-5ecc-4da9-bcd2-bf5e2490faca",
   "metadata": {},
   "outputs": [],
   "source": []
  },
  {
   "cell_type": "code",
   "execution_count": null,
   "id": "66988868-c7a0-4a41-97e6-a78e6dfcd608",
   "metadata": {},
   "outputs": [],
   "source": []
  },
  {
   "cell_type": "code",
   "execution_count": 70,
   "id": "924e3a14-8d15-4a38-aa98-e0c0989c8029",
   "metadata": {},
   "outputs": [],
   "source": [
    "yeniListe=[[10,45,2,4,5],[78,68,20,30,40],[40,13,47,50,60],[24,122,18,30,40],[20,78,96,30,488]]"
   ]
  },
  {
   "cell_type": "code",
   "execution_count": 71,
   "id": "469147a1-eeb6-4790-8cba-61ffd877635b",
   "metadata": {},
   "outputs": [],
   "source": [
    "yeniMatrix=np.array(yeniListe)"
   ]
  },
  {
   "cell_type": "code",
   "execution_count": 72,
   "id": "811a5d07-7302-4521-b56c-dfe0a6f768c8",
   "metadata": {},
   "outputs": [
    {
     "data": {
      "text/plain": [
       "array([[ 10,  45,   2,   4,   5],\n",
       "       [ 78,  68,  20,  30,  40],\n",
       "       [ 40,  13,  47,  50,  60],\n",
       "       [ 24, 122,  18,  30,  40],\n",
       "       [ 20,  78,  96,  30, 488]])"
      ]
     },
     "execution_count": 72,
     "metadata": {},
     "output_type": "execute_result"
    }
   ],
   "source": [
    "yeniMatrix"
   ]
  },
  {
   "cell_type": "code",
   "execution_count": 74,
   "id": "98d9f52a-b1d1-437e-b92a-e2ed8252e834",
   "metadata": {},
   "outputs": [
    {
     "data": {
      "text/plain": [
       "array([[ 10,  45,   2,   4,   5],\n",
       "       [ 40,  13,  47,  50,  60],\n",
       "       [ 20,  78,  96,  30, 488]])"
      ]
     },
     "execution_count": 74,
     "metadata": {},
     "output_type": "execute_result"
    }
   ],
   "source": [
    "yeniMatrix[[0,2,4]]  #0 2 4 . satırları getirir."
   ]
  },
  {
   "cell_type": "code",
   "execution_count": null,
   "id": "0b0ba0da-4bf2-4122-843e-781b9b9a2368",
   "metadata": {},
   "outputs": [],
   "source": []
  },
  {
   "cell_type": "code",
   "execution_count": null,
   "id": "49795725-d4a4-4fd7-919e-76346db3a1ff",
   "metadata": {},
   "outputs": [],
   "source": []
  },
  {
   "cell_type": "markdown",
   "id": "e6adabce-ee87-4953-a425-e54130a6ab1d",
   "metadata": {},
   "source": [
    "### operasyonlar"
   ]
  },
  {
   "cell_type": "code",
   "execution_count": null,
   "id": "fe262eef-cf72-456f-9667-d18ff999e051",
   "metadata": {},
   "outputs": [],
   "source": []
  },
  {
   "cell_type": "code",
   "execution_count": 78,
   "id": "dece1eb8-d289-42ba-9909-970d07c2267f",
   "metadata": {},
   "outputs": [],
   "source": [
    "yeniDizi=np.random.randint(1,100,20) #1 den 100e kadar  rastgele 20 tane"
   ]
  },
  {
   "cell_type": "code",
   "execution_count": 79,
   "id": "c9e702a0-ef55-4b94-a546-d53400a5d2c3",
   "metadata": {},
   "outputs": [
    {
     "data": {
      "text/plain": [
       "array([32, 79, 45, 98, 80, 88, 60, 73, 48, 54, 64, 59, 77, 79, 21, 39, 39,\n",
       "       92, 93, 31], dtype=int32)"
      ]
     },
     "execution_count": 79,
     "metadata": {},
     "output_type": "execute_result"
    }
   ],
   "source": [
    "yeniDizi"
   ]
  },
  {
   "cell_type": "code",
   "execution_count": 81,
   "id": "ee3800f9-0e9e-4b68-8b38-bc82b15d1178",
   "metadata": {},
   "outputs": [
    {
     "data": {
      "text/plain": [
       "array([False,  True,  True,  True,  True,  True,  True,  True,  True,\n",
       "        True,  True,  True,  True,  True, False, False, False,  True,\n",
       "        True, False])"
      ]
     },
     "execution_count": 81,
     "metadata": {},
     "output_type": "execute_result"
    }
   ],
   "source": [
    "\n",
    "\n",
    "yeniDizi>44 # dizinin elemanlarını karşılaştırır true false döner --- 44 ten büyükse true değilse false döner ."
   ]
  },
  {
   "cell_type": "code",
   "execution_count": 82,
   "id": "76d94031-ab9d-4ae3-816e-9fd80fdc441e",
   "metadata": {},
   "outputs": [
    {
     "data": {
      "text/plain": [
       "array([32, 79, 45, 98, 80, 88, 60, 73, 48, 54, 64, 59, 77, 79, 21, 39, 39,\n",
       "       92, 93, 31], dtype=int32)"
      ]
     },
     "execution_count": 82,
     "metadata": {},
     "output_type": "execute_result"
    }
   ],
   "source": [
    "yeniDizi  # diziyi  değiştirmez "
   ]
  },
  {
   "cell_type": "code",
   "execution_count": null,
   "id": "9c4e8ec1-30e4-4efc-bfd2-3eed0dccc420",
   "metadata": {},
   "outputs": [],
   "source": []
  },
  {
   "cell_type": "code",
   "execution_count": 83,
   "id": "c1bc38b2-3286-4347-b850-6e1880cd3757",
   "metadata": {},
   "outputs": [],
   "source": [
    "sonucDizisi=yeniDizi>40  #değişen diziyi bir değişkene atama yaptık "
   ]
  },
  {
   "cell_type": "code",
   "execution_count": 84,
   "id": "5fb317fb-7a33-4f3c-bf5a-eedd79ce0aca",
   "metadata": {},
   "outputs": [
    {
     "data": {
      "text/plain": [
       "array([False,  True,  True,  True,  True,  True,  True,  True,  True,\n",
       "        True,  True,  True,  True,  True, False, False, False,  True,\n",
       "        True, False])"
      ]
     },
     "execution_count": 84,
     "metadata": {},
     "output_type": "execute_result"
    }
   ],
   "source": [
    "sonucDizisi"
   ]
  },
  {
   "cell_type": "code",
   "execution_count": null,
   "id": "9127356f-f875-40fe-bab4-dd973f475bc1",
   "metadata": {},
   "outputs": [],
   "source": []
  },
  {
   "cell_type": "code",
   "execution_count": 85,
   "id": "fdbd7469-6a0b-43db-b4fd-af07236c7cc4",
   "metadata": {},
   "outputs": [
    {
     "data": {
      "text/plain": [
       "array([32, 79, 45, 98, 80, 88, 60, 73, 48, 54, 64, 59, 77, 79, 21, 39, 39,\n",
       "       92, 93, 31], dtype=int32)"
      ]
     },
     "execution_count": 85,
     "metadata": {},
     "output_type": "execute_result"
    }
   ],
   "source": [
    "yeniDizi"
   ]
  },
  {
   "cell_type": "code",
   "execution_count": null,
   "id": "756619ea-e98a-4351-bde0-b4d68b22a633",
   "metadata": {},
   "outputs": [],
   "source": []
  },
  {
   "cell_type": "code",
   "execution_count": 86,
   "id": "53db9873-1ec7-4467-ae4c-b52e197026dc",
   "metadata": {},
   "outputs": [
    {
     "data": {
      "text/plain": [
       "array([79, 45, 98, 80, 88, 60, 73, 48, 54, 64, 59, 77, 79, 92, 93],\n",
       "      dtype=int32)"
      ]
     },
     "execution_count": 86,
     "metadata": {},
     "output_type": "execute_result"
    }
   ],
   "source": [
    "yeniDizi[sonucDizisi]  #44 den büyük yani true değerlerin sayılarını getirir "
   ]
  },
  {
   "cell_type": "code",
   "execution_count": 88,
   "id": "417be565-9c71-4e5c-922e-808d257c5a97",
   "metadata": {},
   "outputs": [
    {
     "data": {
      "text/plain": [
       "array([79, 45, 98, 80, 88, 60, 73, 48, 54, 64, 59, 77, 79, 92, 93],\n",
       "      dtype=int32)"
      ]
     },
     "execution_count": 88,
     "metadata": {},
     "output_type": "execute_result"
    }
   ],
   "source": [
    "yeniDizi[yeniDizi>44] #üstteki ile aynı mantık filteleme  sonucları getirir"
   ]
  },
  {
   "cell_type": "code",
   "execution_count": null,
   "id": "9662d8cf-5587-4b3e-b9d7-7cc854f850e7",
   "metadata": {},
   "outputs": [],
   "source": []
  },
  {
   "cell_type": "code",
   "execution_count": null,
   "id": "fe5c58cc-2885-4c25-a962-8e7cf08e2664",
   "metadata": {},
   "outputs": [],
   "source": []
  },
  {
   "cell_type": "code",
   "execution_count": 90,
   "id": "e13c6781-6882-4f18-bd10-3d76c4e63831",
   "metadata": {},
   "outputs": [],
   "source": [
    "sondizi= np.arange(0,24)"
   ]
  },
  {
   "cell_type": "code",
   "execution_count": 91,
   "id": "8d6f20dc-b9ff-4346-ae76-7a3c194aad15",
   "metadata": {},
   "outputs": [
    {
     "data": {
      "text/plain": [
       "array([ 0,  1,  2,  3,  4,  5,  6,  7,  8,  9, 10, 11, 12, 13, 14, 15, 16,\n",
       "       17, 18, 19, 20, 21, 22, 23])"
      ]
     },
     "execution_count": 91,
     "metadata": {},
     "output_type": "execute_result"
    }
   ],
   "source": [
    "sondizi"
   ]
  },
  {
   "cell_type": "code",
   "execution_count": null,
   "id": "9d083cbf-8ddb-4830-8f63-70545d531cfe",
   "metadata": {},
   "outputs": [],
   "source": []
  },
  {
   "cell_type": "code",
   "execution_count": 92,
   "id": "57c037da-f504-47d7-927c-4df9d9e83993",
   "metadata": {},
   "outputs": [
    {
     "data": {
      "text/plain": [
       "array([ 0,  2,  4,  6,  8, 10, 12, 14, 16, 18, 20, 22, 24, 26, 28, 30, 32,\n",
       "       34, 36, 38, 40, 42, 44, 46])"
      ]
     },
     "execution_count": 92,
     "metadata": {},
     "output_type": "execute_result"
    }
   ],
   "source": [
    "sondizi+sondizi  #dizileri toplama yapar "
   ]
  },
  {
   "cell_type": "code",
   "execution_count": null,
   "id": "e6af9d09-5c0f-4c39-bd45-eaaaad82b35f",
   "metadata": {},
   "outputs": [],
   "source": []
  },
  {
   "cell_type": "code",
   "execution_count": 93,
   "id": "c143032e-5c6c-4526-8bac-a28616b2b65e",
   "metadata": {},
   "outputs": [
    {
     "data": {
      "text/plain": [
       "array([  0,   1,   4,   9,  16,  25,  36,  49,  64,  81, 100, 121, 144,\n",
       "       169, 196, 225, 256, 289, 324, 361, 400, 441, 484, 529])"
      ]
     },
     "execution_count": 93,
     "metadata": {},
     "output_type": "execute_result"
    }
   ],
   "source": [
    "sondizi*sondizi #çarpma \n"
   ]
  },
  {
   "cell_type": "code",
   "execution_count": null,
   "id": "be840d06-cfa0-47e8-8a63-d6d11ba55b09",
   "metadata": {},
   "outputs": [],
   "source": []
  },
  {
   "cell_type": "code",
   "execution_count": 96,
   "id": "3e6acce4-6227-4ab4-958e-480da11253b4",
   "metadata": {},
   "outputs": [
    {
     "data": {
      "text/plain": [
       "array([0, 0, 0, 0, 0, 0, 0, 0, 0, 0, 0, 0, 0, 0, 0, 0, 0, 0, 0, 0, 0, 0,\n",
       "       0, 0])"
      ]
     },
     "execution_count": 96,
     "metadata": {},
     "output_type": "execute_result"
    }
   ],
   "source": [
    "sondizi-sondizi #çıkarma "
   ]
  },
  {
   "cell_type": "code",
   "execution_count": null,
   "id": "20bbff5d-6217-4052-8c56-a4454faabed9",
   "metadata": {},
   "outputs": [],
   "source": []
  },
  {
   "cell_type": "code",
   "execution_count": 97,
   "id": "cb92a8cd-aefc-4fe2-bfd7-706a14616a2d",
   "metadata": {},
   "outputs": [
    {
     "name": "stderr",
     "output_type": "stream",
     "text": [
      "C:\\Users\\canoz\\AppData\\Local\\Temp\\ipykernel_10864\\58252766.py:1: RuntimeWarning: invalid value encountered in divide\n",
      "  sondizi/sondizi  #0 a bölme hatası alır\n"
     ]
    },
    {
     "data": {
      "text/plain": [
       "array([nan,  1.,  1.,  1.,  1.,  1.,  1.,  1.,  1.,  1.,  1.,  1.,  1.,\n",
       "        1.,  1.,  1.,  1.,  1.,  1.,  1.,  1.,  1.,  1.,  1.])"
      ]
     },
     "execution_count": 97,
     "metadata": {},
     "output_type": "execute_result"
    }
   ],
   "source": [
    "sondizi/sondizi  #0 a bölme hatası alır"
   ]
  },
  {
   "cell_type": "code",
   "execution_count": null,
   "id": "768fe76d-9860-4316-aa2d-935430247feb",
   "metadata": {},
   "outputs": [],
   "source": []
  },
  {
   "cell_type": "code",
   "execution_count": 98,
   "id": "e9c23e7e-3b93-4a7b-b84c-094388cfe725",
   "metadata": {},
   "outputs": [
    {
     "data": {
      "text/plain": [
       "array([0.        , 1.        , 1.41421356, 1.73205081, 2.        ,\n",
       "       2.23606798, 2.44948974, 2.64575131, 2.82842712, 3.        ,\n",
       "       3.16227766, 3.31662479, 3.46410162, 3.60555128, 3.74165739,\n",
       "       3.87298335, 4.        , 4.12310563, 4.24264069, 4.35889894,\n",
       "       4.47213595, 4.58257569, 4.69041576, 4.79583152])"
      ]
     },
     "execution_count": 98,
     "metadata": {},
     "output_type": "execute_result"
    }
   ],
   "source": [
    "np.sqrt(sondizi) #karekök alma "
   ]
  },
  {
   "cell_type": "code",
   "execution_count": null,
   "id": "6a967580-bccc-4939-94e7-fabaf56be07b",
   "metadata": {},
   "outputs": [],
   "source": []
  },
  {
   "cell_type": "code",
   "execution_count": 99,
   "id": "9ad2367f-cf1f-4225-86ff-ece3d8a23702",
   "metadata": {},
   "outputs": [
    {
     "data": {
      "text/plain": [
       "np.int64(23)"
      ]
     },
     "execution_count": 99,
     "metadata": {},
     "output_type": "execute_result"
    }
   ],
   "source": [
    "np.max(sondizi)"
   ]
  },
  {
   "cell_type": "code",
   "execution_count": null,
   "id": "4a374441-d233-48f4-908f-36982ede1bde",
   "metadata": {},
   "outputs": [],
   "source": []
  },
  {
   "cell_type": "code",
   "execution_count": 100,
   "id": "fe38f38a-188f-4764-9eb7-e47eacb79973",
   "metadata": {},
   "outputs": [
    {
     "data": {
      "text/plain": [
       "np.int64(0)"
      ]
     },
     "execution_count": 100,
     "metadata": {},
     "output_type": "execute_result"
    }
   ],
   "source": [
    "np.min(sondizi)"
   ]
  },
  {
   "cell_type": "code",
   "execution_count": null,
   "id": "2bdb1cae-57dc-4567-80a3-d249e2176344",
   "metadata": {},
   "outputs": [],
   "source": []
  },
  {
   "cell_type": "markdown",
   "id": "f711ae41-7a90-431d-8a1e-45de9998299c",
   "metadata": {},
   "source": [
    "#### NUMPY.ORG DA KALAN  FARKLI ÖZELLİKLERE ERİŞİLEBİLİR "
   ]
  },
  {
   "cell_type": "code",
   "execution_count": null,
   "id": "060e2dd5-3bfd-4cf4-9945-23ff77f54a78",
   "metadata": {},
   "outputs": [],
   "source": []
  }
 ],
 "metadata": {
  "kernelspec": {
   "display_name": "Python 3 (ipykernel)",
   "language": "python",
   "name": "python3"
  },
  "language_info": {
   "codemirror_mode": {
    "name": "ipython",
    "version": 3
   },
   "file_extension": ".py",
   "mimetype": "text/x-python",
   "name": "python",
   "nbconvert_exporter": "python",
   "pygments_lexer": "ipython3",
   "version": "3.13.5"
  }
 },
 "nbformat": 4,
 "nbformat_minor": 5
}

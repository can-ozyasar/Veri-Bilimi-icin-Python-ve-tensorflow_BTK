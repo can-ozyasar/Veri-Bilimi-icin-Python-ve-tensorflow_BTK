{
 "cells": [
  {
   "cell_type": "code",
   "execution_count": 1,
   "id": "4a456da1-3bce-4cd5-8993-f3d95687e7f6",
   "metadata": {},
   "outputs": [],
   "source": [
    "import numpy as np\n"
   ]
  },
  {
   "cell_type": "markdown",
   "id": "c2f8d413-05e2-429c-975d-0772a35d39b6",
   "metadata": {},
   "source": [
    " ## numpy array\n"
   ]
  },
  {
   "cell_type": "code",
   "execution_count": 14,
   "id": "f37365a3-63fd-48b1-b0c4-3122f3f312cf",
   "metadata": {},
   "outputs": [],
   "source": [
    "benimListem = [20,30,40]"
   ]
  },
  {
   "cell_type": "code",
   "execution_count": 16,
   "id": "b0a973fc-38cf-4c60-acd7-626f4016af30",
   "metadata": {},
   "outputs": [
    {
     "data": {
      "text/plain": [
       "list"
      ]
     },
     "execution_count": 16,
     "metadata": {},
     "output_type": "execute_result"
    }
   ],
   "source": [
    "type( benimListem )"
   ]
  },
  {
   "cell_type": "code",
   "execution_count": 18,
   "id": "ffe1dc0a-eaf9-4435-a8cb-9430bc15d801",
   "metadata": {},
   "outputs": [
    {
     "data": {
      "text/plain": [
       "array([20, 30, 40])"
      ]
     },
     "execution_count": 18,
     "metadata": {},
     "output_type": "execute_result"
    }
   ],
   "source": [
    "np.array(benimListem) "
   ]
  },
  {
   "cell_type": "markdown",
   "id": "00a40a77-0ba6-4fa7-80c7-9b7fe4b88466",
   "metadata": {},
   "source": [
    "matrixListesi = [ [10,20,30],[20,30,40],[30,40,50]]"
   ]
  },
  {
   "cell_type": "code",
   "execution_count": 22,
   "id": "d6fac70c-f02c-4c27-b048-cc498c1ad00b",
   "metadata": {},
   "outputs": [
    {
     "ename": "NameError",
     "evalue": "name 'matrixListesi' is not defined",
     "output_type": "error",
     "traceback": [
      "\u001b[1;31m---------------------------------------------------------------------------\u001b[0m",
      "\u001b[1;31mNameError\u001b[0m                                 Traceback (most recent call last)",
      "Cell \u001b[1;32mIn[22], line 1\u001b[0m\n\u001b[1;32m----> 1\u001b[0m \u001b[38;5;28mtype\u001b[39m(\u001b[43mmatrixListesi\u001b[49m[\u001b[38;5;241m1\u001b[39m])\n",
      "\u001b[1;31mNameError\u001b[0m: name 'matrixListesi' is not defined"
     ]
    }
   ],
   "source": [
    "type(matrixListesi)"
   ]
  },
  {
   "cell_type": "code",
   "execution_count": null,
   "id": "732aefe2-a16c-4b47-85ef-bd66c4bcab9d",
   "metadata": {},
   "outputs": [],
   "source": []
  }
 ],
 "metadata": {
  "kernelspec": {
   "display_name": "Python 3 (ipykernel)",
   "language": "python",
   "name": "python3"
  },
  "language_info": {
   "codemirror_mode": {
    "name": "ipython",
    "version": 3
   },
   "file_extension": ".py",
   "mimetype": "text/x-python",
   "name": "python",
   "nbconvert_exporter": "python",
   "pygments_lexer": "ipython3",
   "version": "3.13.5"
  }
 },
 "nbformat": 4,
 "nbformat_minor": 5
}
